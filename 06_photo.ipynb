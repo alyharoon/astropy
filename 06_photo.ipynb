{
  "cells": [
    {
      "cell_type": "markdown",
      "metadata": {
        "id": "__VWU7HLuJK-"
      },
      "source": [
        "# 6. Photometry\n",
        "\n",
        "This is the sixth in a series of notebooks related to astronomy data.\n",
        "\n",
        "As a continuing example, we will replicate part of the analysis in a recent paper, \"[Off the beaten path: Gaia reveals GD-1 stars outside of the main stream](https://arxiv.org/abs/1805.00425)\" by Adrian M. Price-Whelan and Ana Bonaca.\n",
        "\n",
        "In the previous lesson we downloaded photometry data from Pan-STARRS, which is available from the same server we've been using to get Gaia data.\n",
        "\n",
        "The next step in the analysis is to select candidate stars based on the photometry data.  \n",
        "The following figure from the paper is a color-magnitude diagram showing the stars we previously selected based on proper motion:\n",
        "\n",
        "<img width=\"300\" src=\"https://github.com/datacarpentry/astronomy-python/raw/gh-pages/fig/gd1-3.png\">\n",
        "\n",
        "In red is a theoretical isochrone, showing where we expect the stars in GD-1 to fall based on the metallicity and age of their original globular cluster.\n",
        "\n",
        "By selecting stars in the shaded area, we can further distinguish the main sequence of GD-1 from mostly younger background stars."
      ]
    },
    {
      "cell_type": "markdown",
      "metadata": {
        "id": "_sSSdOw5uJLA"
      },
      "source": [
        "## Outline\n",
        "\n",
        "Here are the steps in this notebook:\n",
        "\n",
        "1. We'll reload the data from the previous notebook and make a color-magnitude diagram.\n",
        "\n",
        "2. We'll use an isochrone computed by MIST to specify a polygonal region in the color-magnitude diagram and select the stars inside it.\n",
        "\n",
        "After completing this lesson, you should be able to\n",
        "\n",
        "* Use Matplotlib to specify a `Polygon` and determine which points fall inside it.\n",
        "\n",
        "* Use Pandas to merge data from multiple `DataFrames`, much like a database `JOIN` operation."
      ]
    },
    {
      "cell_type": "markdown",
      "metadata": {
        "id": "l2Y-XVl6uJLB"
      },
      "source": [
        "## Reload the data\n",
        "\n",
        "You can [download the data from the previous lesson](https://github.com/AllenDowney/AstronomicalData/raw/main/data/gd1_data.hdf) or run the following cell, which downloads it if necessary."
      ]
    },
    {
      "cell_type": "code",
      "execution_count": 1,
      "metadata": {
        "id": "vGIHYQ6CuJLB",
        "outputId": "dcd9ddf7-0355-4c4b-8841-4c4e60cb9107",
        "colab": {
          "base_uri": "https://localhost:8080/"
        }
      },
      "outputs": [
        {
          "output_type": "stream",
          "name": "stdout",
          "text": [
            "Downloaded gd1_data.hdf\n"
          ]
        }
      ],
      "source": [
        "from os.path import basename, exists\n",
        "\n",
        "def download(url):\n",
        "    filename = basename(url)\n",
        "    if not exists(filename):\n",
        "        from urllib.request import urlretrieve\n",
        "        local, _ = urlretrieve(url, filename)\n",
        "        print('Downloaded ' + local)\n",
        "\n",
        "download('https://github.com/AllenDowney/AstronomicalData/raw/main/' +\n",
        "         'data/gd1_data.hdf')"
      ]
    },
    {
      "cell_type": "markdown",
      "metadata": {
        "id": "7cQbuzsruJLC"
      },
      "source": [
        "Now we can reload `candidate_df`."
      ]
    },
    {
      "cell_type": "code",
      "execution_count": 2,
      "metadata": {
        "id": "i_2EbQOYuJLC"
      },
      "outputs": [],
      "source": [
        "import pandas as pd\n",
        "\n",
        "filename = 'gd1_data.hdf'\n",
        "candidate_df = pd.read_hdf(filename, 'candidate_df')"
      ]
    },
    {
      "cell_type": "markdown",
      "metadata": {
        "id": "Mo5YOavRuJLC"
      },
      "source": [
        "## Plotting photometry data\n",
        "\n",
        "Now that we have photometry data from Pan-STARRS, we can replicate the [color-magnitude diagram](https://en.wikipedia.org/wiki/Galaxy_color%E2%80%93magnitude_diagram) from the original paper:\n",
        "\n",
        "<img width=\"300\" src=\"https://github.com/datacarpentry/astronomy-python/raw/gh-pages/fig/gd1-3.png\">\n",
        "\n",
        "The y-axis shows the apparent magnitude of each source with the [g filter](https://en.wikipedia.org/wiki/Photometric_system).\n",
        "\n",
        "The x-axis shows the difference in apparent magnitude between the g and i filters, which indicates color.\n",
        "\n",
        "Stars with lower values of (g-i) are brighter in g-band than in i-band, compared to other stars, which means they are bluer.\n",
        "\n",
        "Stars in the lower-left quadrant of this diagram are less bright than the others, and have lower metallicity, which means they are [likely to be older](http://spiff.rit.edu/classes/ladder/lectures/ordinary_stars/ordinary.html).\n",
        "\n",
        "Since we expect the stars in GD-1 to be older than the background stars, the stars in the lower-left are more likely to be in GD-1."
      ]
    },
    {
      "cell_type": "markdown",
      "metadata": {
        "id": "hbJyMaYEuJLC"
      },
      "source": [
        "The following function takes a table containing photometry data and draws a color-magnitude diagram.\n",
        "The input can be an Astropy `Table` or Pandas `DataFrame`, as long as it has columns named `g_mean_psf_mag` and `i_mean_psf_mag`.\n",
        "\n"
      ]
    },
    {
      "cell_type": "code",
      "execution_count": 3,
      "metadata": {
        "id": "lScC7ONFuJLC"
      },
      "outputs": [],
      "source": [
        "import matplotlib.pyplot as plt\n",
        "\n",
        "def plot_cmd(table):\n",
        "    \"\"\"Plot a color magnitude diagram.\n",
        "\n",
        "    table: Table or DataFrame with photometry data\n",
        "    \"\"\"\n",
        "    y = table['g_mean_psf_mag']\n",
        "    x = table['g_mean_psf_mag'] - table['i_mean_psf_mag']\n",
        "\n",
        "    plt.plot(x, y, 'ko', markersize=0.3, alpha=0.3)\n",
        "\n",
        "    plt.xlim([0, 1.5])\n",
        "    plt.ylim([14, 22])\n",
        "    plt.gca().invert_yaxis()\n",
        "\n",
        "    plt.ylabel('$Magnitude (g)$')\n",
        "    plt.xlabel('$Color (g-i)$')"
      ]
    },
    {
      "cell_type": "markdown",
      "metadata": {
        "id": "u2UMRiXMuJLD"
      },
      "source": [
        "`plot_cmd` uses a new function, `invert_yaxis`, to invert the `y` axis, which is conventional when plotting magnitudes, since lower magnitude indicates higher brightness.\n",
        "\n",
        "`invert_yaxis` is a little different from the other functions we've used.  You can't call it like this:\n",
        "\n",
        "```\n",
        "plt.invert_yaxis()          # doesn't work\n",
        "```\n",
        "\n",
        "You have to call it like this:\n",
        "\n",
        "```\n",
        "plt.gca().invert_yaxis()          # works\n",
        "```\n",
        "\n",
        "`gca` stands for \"get current axis\".  It returns an object that represents the axes of the current figure, and that object provides `invert_yaxis`.\n",
        "\n",
        "**In case anyone asks:** The most likely reason for this inconsistency in the interface is that `invert_yaxis` is a lesser-used function, so it's not made available at the top level of the interface."
      ]
    },
    {
      "cell_type": "markdown",
      "metadata": {
        "id": "V6U0kUN_uJLD"
      },
      "source": [
        "Here's what the results look like."
      ]
    },
    {
      "cell_type": "code",
      "execution_count": 4,
      "metadata": {
        "id": "vD17z_nPuJLD",
        "outputId": "88f800e4-42a0-44bd-85f8-27bc9689dc0d",
        "colab": {
          "base_uri": "https://localhost:8080/",
          "height": 459
        }
      },
      "outputs": [
        {
          "output_type": "display_data",
          "data": {
            "text/plain": [
              "<Figure size 640x480 with 1 Axes>"
            ],
            "image/png": "[encoded data removed]"
          },
          "metadata": {}
        }
      ],
      "source": [
        "plot_cmd(candidate_df)"
      ]
    },
    {
      "cell_type": "markdown",
      "metadata": {
        "id": "yGFo12XquJLD"
      },
      "source": [
        "Our figure does not look exactly like the one in the paper because we are working with a smaller region of the sky, so we don't have as many stars.  But we can see an overdense region in the lower left that contains stars with the photometry we expect for GD-1.\n",
        "\n",
        "In the next section we'll use an isochrone to specify a polygon that contains this overdense regioin."
      ]
    },
    {
      "cell_type": "markdown",
      "metadata": {
        "id": "RWyzvQDUuJLD"
      },
      "source": [
        "## Isochrone\n",
        "\n",
        "Based on our best estimates for the ages of the stars in GD-1 and their metallicity, we can compute a [stellar isochrone](https://en.wikipedia.org/wiki/Stellar_isochrone) that predicts the relationship between their magnitude and color.\n",
        "\n",
        "In fact, we can use [MESA Isochrones & Stellar Tracks](http://waps.cfa.harvard.edu/MIST/) (MIST) to compute it for us.\n",
        "\n",
        "Using the [MIST Version 1.2 web interface](http://waps.cfa.harvard.edu/MIST/interp_isos.html), we computed an isochrone with the following parameters:\n",
        "    \n",
        "* Rotation initial v/v_crit = 0.4\n",
        "\n",
        "* Single age, linear scale = 12e9\n",
        "\n",
        "* Composition [Fe/H] = -1.35\n",
        "\n",
        "* Synthetic Photometry, PanStarrs\n",
        "\n",
        "* Extinction av = 0\n",
        "\n",
        "The following cell downloads the results:"
      ]
    },
    {
      "cell_type": "code",
      "execution_count": 5,
      "metadata": {
        "id": "5jRGrSRuuJLD",
        "outputId": "9f81b2fd-42fe-4e9e-d2ec-e696e7b6bd1d",
        "colab": {
          "base_uri": "https://localhost:8080/"
        }
      },
      "outputs": [
        {
          "output_type": "stream",
          "name": "stdout",
          "text": [
            "Downloaded MIST_iso_5fd2532653c27.iso.cmd\n"
          ]
        }
      ],
      "source": [
        "download('https://github.com/AllenDowney/AstronomicalData/raw/main/' +\n",
        "         'data/MIST_iso_5fd2532653c27.iso.cmd')"
      ]
    },
    {
      "cell_type": "markdown",
      "metadata": {
        "id": "ELlVnsAKuJLD"
      },
      "source": [
        "To read this file we'll download a Python module [from this repository](https://github.com/jieunchoi/MIST_codes)."
      ]
    },
    {
      "cell_type": "code",
      "execution_count": 6,
      "metadata": {
        "id": "hgl_ObnduJLD",
        "outputId": "a6be28ca-cd33-44a9-a9df-9821d9806992",
        "colab": {
          "base_uri": "https://localhost:8080/"
        }
      },
      "outputs": [
        {
          "output_type": "stream",
          "name": "stdout",
          "text": [
            "Downloaded read_mist_models.py\n"
          ]
        }
      ],
      "source": [
        "download('https://github.com/jieunchoi/MIST_codes/raw/master/scripts/' +\n",
        "         'read_mist_models.py')"
      ]
    },
    {
      "cell_type": "markdown",
      "metadata": {
        "id": "y7GQ_OzjuJLD"
      },
      "source": [
        "Now we can read the file:"
      ]
    },
    {
      "cell_type": "code",
      "execution_count": 7,
      "metadata": {
        "id": "uo6YRfQjuJLD",
        "outputId": "f9dce894-d4bb-49c0-f427-66311cbcba25",
        "colab": {
          "base_uri": "https://localhost:8080/"
        }
      },
      "outputs": [
        {
          "output_type": "stream",
          "name": "stdout",
          "text": [
            "Reading in: MIST_iso_5fd2532653c27.iso.cmd\n"
          ]
        }
      ],
      "source": [
        "import read_mist_models\n",
        "\n",
        "filename = 'MIST_iso_5fd2532653c27.iso.cmd'\n",
        "iso = read_mist_models.ISOCMD(filename)"
      ]
    },
    {
      "cell_type": "markdown",
      "metadata": {
        "id": "ZWYVIQDyuJLE"
      },
      "source": [
        "The result is an `ISOCMD` object."
      ]
    },
    {
      "cell_type": "code",
      "execution_count": 8,
      "metadata": {
        "id": "dYhBQO5NuJLE",
        "outputId": "398ac96a-6b3d-43e7-94de-2f85ccb70af8",
        "colab": {
          "base_uri": "https://localhost:8080/",
          "height": 121
        }
      },
      "outputs": [
        {
          "output_type": "execute_result",
          "data": {
            "text/plain": [
              "read_mist_models.ISOCMD"
            ],
            "text/html": [
              "<div style=\"max-width:800px; border: 1px solid var(--colab-border-color);\"><style>\n",
              "      pre.function-repr-contents {\n",
              "        overflow-x: auto;\n",
              "        padding: 8px 12px;\n",
              "        max-height: 500px;\n",
              "      }\n",
              "\n",
              "      pre.function-repr-contents.function-repr-contents-collapsed {\n",
              "        cursor: pointer;\n",
              "        max-height: 100px;\n",
              "      }\n",
              "    </style>\n",
              "    <pre style=\"white-space: initial; background:\n",
              "         var(--colab-secondary-surface-color); padding: 8px 12px;\n",
              "         border-bottom: 1px solid var(--colab-border-color);\"><b>read_mist_models.ISOCMD</b><br/>def __init__(filename, verbose=True)</pre><pre class=\"function-repr-contents function-repr-contents-collapsed\" style=\"\"><a class=\"filepath\" style=\"display:none\" href=\"#\">/content/read_mist_models.py</a>Reads in MIST CMD files.</pre>\n",
              "      <script>\n",
              "      if (google.colab.kernel.accessAllowed && google.colab.files && google.colab.files.view) {\n",
              "        for (const element of document.querySelectorAll('.filepath')) {\n",
              "          element.style.display = 'block'\n",
              "          element.onclick = (event) => {\n",
              "            event.preventDefault();\n",
              "            event.stopPropagation();\n",
              "            google.colab.files.view(element.textContent, 104);\n",
              "          };\n",
              "        }\n",
              "      }\n",
              "      for (const element of document.querySelectorAll('.function-repr-contents')) {\n",
              "        element.onclick = (event) => {\n",
              "          event.preventDefault();\n",
              "          event.stopPropagation();\n",
              "          element.classList.toggle('function-repr-contents-collapsed');\n",
              "        };\n",
              "      }\n",
              "      </script>\n",
              "      </div>"
            ]
          },
          "metadata": {},
          "execution_count": 8
        }
      ],
      "source": [
        "type(iso)"
      ]
    },
    {
      "cell_type": "markdown",
      "metadata": {
        "id": "NmSK6I8xuJLE"
      },
      "source": [
        "It contains a list of arrays, one for each isochrone."
      ]
    },
    {
      "cell_type": "code",
      "execution_count": 9,
      "metadata": {
        "id": "O0IQFGHFuJLE",
        "outputId": "199993fd-5976-447d-8f67-ef7e84edd55b",
        "colab": {
          "base_uri": "https://localhost:8080/"
        }
      },
      "outputs": [
        {
          "output_type": "execute_result",
          "data": {
            "text/plain": [
              "list"
            ]
          },
          "metadata": {},
          "execution_count": 9
        }
      ],
      "source": [
        "type(iso.isocmds)"
      ]
    },
    {
      "cell_type": "markdown",
      "metadata": {
        "id": "vOiDfR6juJLE"
      },
      "source": [
        "We only got one isochrone."
      ]
    },
    {
      "cell_type": "code",
      "execution_count": 10,
      "metadata": {
        "id": "ra50V0uKuJLE",
        "outputId": "9f79682f-dbcf-429b-eecd-417cf136b8ad",
        "colab": {
          "base_uri": "https://localhost:8080/"
        }
      },
      "outputs": [
        {
          "output_type": "execute_result",
          "data": {
            "text/plain": [
              "1"
            ]
          },
          "metadata": {},
          "execution_count": 10
        }
      ],
      "source": [
        "len(iso.isocmds)"
      ]
    },
    {
      "cell_type": "markdown",
      "metadata": {
        "id": "GYr1FxgsuJLE"
      },
      "source": [
        "So we can select it like this:"
      ]
    },
    {
      "cell_type": "code",
      "execution_count": 11,
      "metadata": {
        "id": "F4zLTTp5uJLE"
      },
      "outputs": [],
      "source": [
        "iso_array = iso.isocmds[0]"
      ]
    },
    {
      "cell_type": "markdown",
      "metadata": {
        "id": "xocjrhj-uJLF"
      },
      "source": [
        "It's a NumPy array:"
      ]
    },
    {
      "cell_type": "code",
      "execution_count": 12,
      "metadata": {
        "id": "qEgkH9mTuJLF",
        "outputId": "e69c7512-8090-4c39-8395-df58ce3b128a",
        "colab": {
          "base_uri": "https://localhost:8080/"
        }
      },
      "outputs": [
        {
          "output_type": "execute_result",
          "data": {
            "text/plain": [
              "numpy.ndarray"
            ]
          },
          "metadata": {},
          "execution_count": 12
        }
      ],
      "source": [
        "type(iso_array)"
      ]
    },
    {
      "cell_type": "markdown",
      "metadata": {
        "id": "Qfi_7YOguJLF"
      },
      "source": [
        "But it's an unusual NumPy array, because it contains names for the columns."
      ]
    },
    {
      "cell_type": "code",
      "execution_count": 13,
      "metadata": {
        "id": "wrP7uSz2uJLF",
        "outputId": "a6513abf-9d07-478f-f541-9ce12e16cd36",
        "colab": {
          "base_uri": "https://localhost:8080/"
        }
      },
      "outputs": [
        {
          "output_type": "execute_result",
          "data": {
            "text/plain": [
              "dtype([('EEP', '<i4'), ('isochrone_age_yr', '<f8'), ('initial_mass', '<f8'), ('star_mass', '<f8'), ('log_Teff', '<f8'), ('log_g', '<f8'), ('log_L', '<f8'), ('[Fe/H]_init', '<f8'), ('[Fe/H]', '<f8'), ('PS_g', '<f8'), ('PS_r', '<f8'), ('PS_i', '<f8'), ('PS_z', '<f8'), ('PS_y', '<f8'), ('PS_w', '<f8'), ('PS_open', '<f8'), ('phase', '<f8')])"
            ]
          },
          "metadata": {},
          "execution_count": 13
        }
      ],
      "source": [
        "iso_array.dtype"
      ]
    },
    {
      "cell_type": "markdown",
      "metadata": {
        "id": "eFwT4KewuJLF"
      },
      "source": [
        "Which means we can select columns using the bracket operator:"
      ]
    },
    {
      "cell_type": "code",
      "execution_count": 14,
      "metadata": {
        "id": "GenMk-ZfuJLF",
        "outputId": "ff05cfa7-a059-4eec-d174-7fec0d2e338a",
        "colab": {
          "base_uri": "https://localhost:8080/"
        }
      },
      "outputs": [
        {
          "output_type": "execute_result",
          "data": {
            "text/plain": [
              "array([0., 0., 0., ..., 6., 6., 6.])"
            ]
          },
          "metadata": {},
          "execution_count": 14
        }
      ],
      "source": [
        "iso_array['phase']"
      ]
    },
    {
      "cell_type": "markdown",
      "metadata": {
        "id": "NzVzcPeiuJLF"
      },
      "source": [
        "We can use `phase` to select the part of the isochrone for stars in the main sequence and red giant phases."
      ]
    },
    {
      "cell_type": "code",
      "execution_count": 15,
      "metadata": {
        "id": "y_M5gIVEuJLF",
        "outputId": "6229878b-e026-4018-caf4-93575b32636f",
        "colab": {
          "base_uri": "https://localhost:8080/"
        }
      },
      "outputs": [
        {
          "output_type": "execute_result",
          "data": {
            "text/plain": [
              "354"
            ]
          },
          "metadata": {},
          "execution_count": 15
        }
      ],
      "source": [
        "phase_mask = (iso_array['phase'] >= 0) & (iso_array['phase'] < 3)\n",
        "phase_mask.sum()"
      ]
    },
    {
      "cell_type": "code",
      "execution_count": 16,
      "metadata": {
        "id": "m6V8SQlAuJLF",
        "outputId": "86dda1b3-3ae2-4d2e-89b4-ac5131b6d654",
        "colab": {
          "base_uri": "https://localhost:8080/"
        }
      },
      "outputs": [
        {
          "output_type": "execute_result",
          "data": {
            "text/plain": [
              "354"
            ]
          },
          "metadata": {},
          "execution_count": 16
        }
      ],
      "source": [
        "main_sequence = iso_array[phase_mask]\n",
        "len(main_sequence)"
      ]
    },
    {
      "cell_type": "markdown",
      "metadata": {
        "id": "7yTfNUUFuJLF"
      },
      "source": [
        "The other two columns we'll use are `PS_g` and `PS_i`, which contain simulated photometry data for stars with the given age and metallicity, based on a model of the Pan-STARRS sensors.\n",
        "\n",
        "We'll use these columns to superimpose the isochrone on the color-magnitude diagram, but first we have to use a [distance modulus](https://en.wikipedia.org/wiki/Distance_modulus) to scale the isochrone based on the estimated distance of GD-1.\n",
        "\n",
        "We can use the `Distance` object from Astropy to compute the distance modulus."
      ]
    },
    {
      "cell_type": "code",
      "execution_count": 17,
      "metadata": {
        "id": "h2W7g2-fuJLF",
        "outputId": "75bcb211-e4bb-4372-d80e-f1ad8b08d57f",
        "colab": {
          "base_uri": "https://localhost:8080/"
        }
      },
      "outputs": [
        {
          "output_type": "execute_result",
          "data": {
            "text/plain": [
              "14.4604730134524"
            ]
          },
          "metadata": {},
          "execution_count": 17
        }
      ],
      "source": [
        "import astropy.coordinates as coord\n",
        "import astropy.units as u\n",
        "\n",
        "distance = 7.8 * u.kpc\n",
        "distmod = coord.Distance(distance).distmod.value\n",
        "distmod"
      ]
    },
    {
      "cell_type": "markdown",
      "metadata": {
        "id": "puxaAlh9uJLF"
      },
      "source": [
        "Now we can compute the scaled magnitude and color of the isochrone."
      ]
    },
    {
      "cell_type": "code",
      "execution_count": 18,
      "metadata": {
        "id": "nz5MjuHluJLJ"
      },
      "outputs": [],
      "source": [
        "mag_g = main_sequence['PS_g'] + distmod\n",
        "color_g_i = main_sequence['PS_g'] - main_sequence['PS_i']"
      ]
    },
    {
      "cell_type": "markdown",
      "metadata": {
        "id": "Pq8SKfcTuJLJ"
      },
      "source": [
        "Now we can plot it on the color-magnitude diagram like this."
      ]
    },
    {
      "cell_type": "code",
      "execution_count": 19,
      "metadata": {
        "id": "nQR2aPDEuJLJ",
        "outputId": "b6f39c8f-f4b7-42ad-e33c-e44c327813f7",
        "colab": {
          "base_uri": "https://localhost:8080/",
          "height": 459
        }
      },
      "outputs": [
        {
          "output_type": "display_data",
          "data": {
            "text/plain": [
              "<Figure size 640x480 with 1 Axes>"
            ],
            "image/png": "[encoded data removed]"
          },
          "metadata": {}
        }
      ],
      "source": [
        "plot_cmd(candidate_df)\n",
        "plt.plot(color_g_i, mag_g);"
      ]
    },
    {
      "cell_type": "markdown",
      "metadata": {
        "id": "82UUiu3JuJLJ"
      },
      "source": [
        "The theoretical isochrone passes through the overdense region where we expect to find stars in GD-1.\n",
        "\n",
        "Let's save this result so we can reload it later without repeating the steps in this section.\n",
        "\n",
        "So we can save the data in an HDF5 file, we'll put it in a Pandas `DataFrame` first:"
      ]
    },
    {
      "cell_type": "code",
      "execution_count": 20,
      "metadata": {
        "id": "4swhZU4puJLJ",
        "outputId": "c659f076-248c-4c93-ac9d-4c9850d6e9f5",
        "colab": {
          "base_uri": "https://localhost:8080/",
          "height": 206
        }
      },
      "outputs": [
        {
          "output_type": "execute_result",
          "data": {
            "text/plain": [
              "       mag_g  color_g_i\n",
              "0  28.294743   2.195021\n",
              "1  28.189718   2.166076\n",
              "2  28.051761   2.129312\n",
              "3  27.916194   2.093721\n",
              "4  27.780024   2.058585"
            ],
            "text/html": [
              "\n",
              "  <div id=\"df-c2e29099-0a93-40ae-b211-d08f63349750\" class=\"colab-df-container\">\n",
              "    <div>\n",
              "<style scoped>\n",
              "    .dataframe tbody tr th:only-of-type {\n",
              "        vertical-align: middle;\n",
              "    }\n",
              "\n",
              "    .dataframe tbody tr th {\n",
              "        vertical-align: top;\n",
              "    }\n",
              "\n",
              "    .dataframe thead th {\n",
              "        text-align: right;\n",
              "    }\n",
              "</style>\n",
              "<table border=\"1\" class=\"dataframe\">\n",
              "  <thead>\n",
              "    <tr style=\"text-align: right;\">\n",
              "      <th></th>\n",
              "      <th>mag_g</th>\n",
              "      <th>color_g_i</th>\n",
              "    </tr>\n",
              "  </thead>\n",
              "  <tbody>\n",
              "    <tr>\n",
              "      <th>0</th>\n",
              "      <td>28.294743</td>\n",
              "      <td>2.195021</td>\n",
              "    </tr>\n",
              "    <tr>\n",
              "      <th>1</th>\n",
              "      <td>28.189718</td>\n",
              "      <td>2.166076</td>\n",
              "    </tr>\n",
              "    <tr>\n",
              "      <th>2</th>\n",
              "      <td>28.051761</td>\n",
              "      <td>2.129312</td>\n",
              "    </tr>\n",
              "    <tr>\n",
              "      <th>3</th>\n",
              "      <td>27.916194</td>\n",
              "      <td>2.093721</td>\n",
              "    </tr>\n",
              "    <tr>\n",
              "      <th>4</th>\n",
              "      <td>27.780024</td>\n",
              "      <td>2.058585</td>\n",
              "    </tr>\n",
              "  </tbody>\n",
              "</table>\n",
              "</div>\n",
              "    <div class=\"colab-df-buttons\">\n",
              "\n",
              "  <div class=\"colab-df-container\">\n",
              "    <button class=\"colab-df-convert\" onclick=\"convertToInteractive('df-c2e29099-0a93-40ae-b211-d08f63349750')\"\n",
              "            title=\"Convert this dataframe to an interactive table.\"\n",
              "            style=\"display:none;\">\n",
              "\n",
              "  <svg xmlns=\"http://www.w3.org/2000/svg\" height=\"24px\" viewBox=\"0 -960 960 960\">\n",
              "    <path d=\"M120-120v-720h720v720H120Zm60-500h600v-160H180v160Zm220 220h160v-160H400v160Zm0 220h160v-160H400v160ZM180-400h160v-160H180v160Zm440 0h160v-160H620v160ZM180-180h160v-160H180v160Zm440 0h160v-160H620v160Z\"/>\n",
              "  </svg>\n",
              "    </button>\n",
              "\n",
              "  <style>\n",
              "    .colab-df-container {\n",
              "      display:flex;\n",
              "      gap: 12px;\n",
              "    }\n",
              "\n",
              "    .colab-df-convert {\n",
              "      background-color: #E8F0FE;\n",
              "      border: none;\n",
              "      border-radius: 50%;\n",
              "      cursor: pointer;\n",
              "      display: none;\n",
              "      fill: #1967D2;\n",
              "      height: 32px;\n",
              "      padding: 0 0 0 0;\n",
              "      width: 32px;\n",
              "    }\n",
              "\n",
              "    .colab-df-convert:hover {\n",
              "      background-color: #E2EBFA;\n",
              "      box-shadow: 0px 1px 2px rgba(60, 64, 67, 0.3), 0px 1px 3px 1px rgba(60, 64, 67, 0.15);\n",
              "      fill: #174EA6;\n",
              "    }\n",
              "\n",
              "    .colab-df-buttons div {\n",
              "      margin-bottom: 4px;\n",
              "    }\n",
              "\n",
              "    [theme=dark] .colab-df-convert {\n",
              "      background-color: #3B4455;\n",
              "      fill: #D2E3FC;\n",
              "    }\n",
              "\n",
              "    [theme=dark] .colab-df-convert:hover {\n",
              "      background-color: #434B5C;\n",
              "      box-shadow: 0px 1px 3px 1px rgba(0, 0, 0, 0.15);\n",
              "      filter: drop-shadow(0px 1px 2px rgba(0, 0, 0, 0.3));\n",
              "      fill: #FFFFFF;\n",
              "    }\n",
              "  </style>\n",
              "\n",
              "    <script>\n",
              "      const buttonEl =\n",
              "        document.querySelector('#df-c2e29099-0a93-40ae-b211-d08f63349750 button.colab-df-convert');\n",
              "      buttonEl.style.display =\n",
              "        google.colab.kernel.accessAllowed ? 'block' : 'none';\n",
              "\n",
              "      async function convertToInteractive(key) {\n",
              "        const element = document.querySelector('#df-c2e29099-0a93-40ae-b211-d08f63349750');\n",
              "        const dataTable =\n",
              "          await google.colab.kernel.invokeFunction('convertToInteractive',\n",
              "                                                    [key], {});\n",
              "        if (!dataTable) return;\n",
              "\n",
              "        const docLinkHtml = 'Like what you see? Visit the ' +\n",
              "          '<a target=\"_blank\" href=https://colab.research.google.com/notebooks/data_table.ipynb>data table notebook</a>'\n",
              "          + ' to learn more about interactive tables.';\n",
              "        element.innerHTML = '';\n",
              "        dataTable['output_type'] = 'display_data';\n",
              "        await google.colab.output.renderOutput(dataTable, element);\n",
              "        const docLink = document.createElement('div');\n",
              "        docLink.innerHTML = docLinkHtml;\n",
              "        element.appendChild(docLink);\n",
              "      }\n",
              "    </script>\n",
              "  </div>\n",
              "\n",
              "\n",
              "<div id=\"df-912c08d4-9898-4204-be8c-f1f565da32ec\">\n",
              "  <button class=\"colab-df-quickchart\" onclick=\"quickchart('df-912c08d4-9898-4204-be8c-f1f565da32ec')\"\n",
              "            title=\"Suggest charts\"\n",
              "            style=\"display:none;\">\n",
              "\n",
              "<svg xmlns=\"http://www.w3.org/2000/svg\" height=\"24px\"viewBox=\"0 0 24 24\"\n",
              "     width=\"24px\">\n",
              "    <g>\n",
              "        <path d=\"M19 3H5c-1.1 0-2 .9-2 2v14c0 1.1.9 2 2 2h14c1.1 0 2-.9 2-2V5c0-1.1-.9-2-2-2zM9 17H7v-7h2v7zm4 0h-2V7h2v10zm4 0h-2v-4h2v4z\"/>\n",
              "    </g>\n",
              "</svg>\n",
              "  </button>\n",
              "\n",
              "<style>\n",
              "  .colab-df-quickchart {\n",
              "      --bg-color: #E8F0FE;\n",
              "      --fill-color: #1967D2;\n",
              "      --hover-bg-color: #E2EBFA;\n",
              "      --hover-fill-color: #174EA6;\n",
              "      --disabled-fill-color: #AAA;\n",
              "      --disabled-bg-color: #DDD;\n",
              "  }\n",
              "\n",
              "  [theme=dark] .colab-df-quickchart {\n",
              "      --bg-color: #3B4455;\n",
              "      --fill-color: #D2E3FC;\n",
              "      --hover-bg-color: #434B5C;\n",
              "      --hover-fill-color: #FFFFFF;\n",
              "      --disabled-bg-color: #3B4455;\n",
              "      --disabled-fill-color: #666;\n",
              "  }\n",
              "\n",
              "  .colab-df-quickchart {\n",
              "    background-color: var(--bg-color);\n",
              "    border: none;\n",
              "    border-radius: 50%;\n",
              "    cursor: pointer;\n",
              "    display: none;\n",
              "    fill: var(--fill-color);\n",
              "    height: 32px;\n",
              "    padding: 0;\n",
              "    width: 32px;\n",
              "  }\n",
              "\n",
              "  .colab-df-quickchart:hover {\n",
              "    background-color: var(--hover-bg-color);\n",
              "    box-shadow: 0 1px 2px rgba(60, 64, 67, 0.3), 0 1px 3px 1px rgba(60, 64, 67, 0.15);\n",
              "    fill: var(--button-hover-fill-color);\n",
              "  }\n",
              "\n",
              "  .colab-df-quickchart-complete:disabled,\n",
              "  .colab-df-quickchart-complete:disabled:hover {\n",
              "    background-color: var(--disabled-bg-color);\n",
              "    fill: var(--disabled-fill-color);\n",
              "    box-shadow: none;\n",
              "  }\n",
              "\n",
              "  .colab-df-spinner {\n",
              "    border: 2px solid var(--fill-color);\n",
              "    border-color: transparent;\n",
              "    border-bottom-color: var(--fill-color);\n",
              "    animation:\n",
              "      spin 1s steps(1) infinite;\n",
              "  }\n",
              "\n",
              "  @keyframes spin {\n",
              "    0% {\n",
              "      border-color: transparent;\n",
              "      border-bottom-color: var(--fill-color);\n",
              "      border-left-color: var(--fill-color);\n",
              "    }\n",
              "    20% {\n",
              "      border-color: transparent;\n",
              "      border-left-color: var(--fill-color);\n",
              "      border-top-color: var(--fill-color);\n",
              "    }\n",
              "    30% {\n",
              "      border-color: transparent;\n",
              "      border-left-color: var(--fill-color);\n",
              "      border-top-color: var(--fill-color);\n",
              "      border-right-color: var(--fill-color);\n",
              "    }\n",
              "    40% {\n",
              "      border-color: transparent;\n",
              "      border-right-color: var(--fill-color);\n",
              "      border-top-color: var(--fill-color);\n",
              "    }\n",
              "    60% {\n",
              "      border-color: transparent;\n",
              "      border-right-color: var(--fill-color);\n",
              "    }\n",
              "    80% {\n",
              "      border-color: transparent;\n",
              "      border-right-color: var(--fill-color);\n",
              "      border-bottom-color: var(--fill-color);\n",
              "    }\n",
              "    90% {\n",
              "      border-color: transparent;\n",
              "      border-bottom-color: var(--fill-color);\n",
              "    }\n",
              "  }\n",
              "</style>\n",
              "\n",
              "  <script>\n",
              "    async function quickchart(key) {\n",
              "      const quickchartButtonEl =\n",
              "        document.querySelector('#' + key + ' button');\n",
              "      quickchartButtonEl.disabled = true;  // To prevent multiple clicks.\n",
              "      quickchartButtonEl.classList.add('colab-df-spinner');\n",
              "      try {\n",
              "        const charts = await google.colab.kernel.invokeFunction(\n",
              "            'suggestCharts', [key], {});\n",
              "      } catch (error) {\n",
              "        console.error('Error during call to suggestCharts:', error);\n",
              "      }\n",
              "      quickchartButtonEl.classList.remove('colab-df-spinner');\n",
              "      quickchartButtonEl.classList.add('colab-df-quickchart-complete');\n",
              "    }\n",
              "    (() => {\n",
              "      let quickchartButtonEl =\n",
              "        document.querySelector('#df-912c08d4-9898-4204-be8c-f1f565da32ec button');\n",
              "      quickchartButtonEl.style.display =\n",
              "        google.colab.kernel.accessAllowed ? 'block' : 'none';\n",
              "    })();\n",
              "  </script>\n",
              "</div>\n",
              "\n",
              "    </div>\n",
              "  </div>\n"
            ],
            "application/vnd.google.colaboratory.intrinsic+json": {
              "type": "dataframe",
              "variable_name": "iso_df",
              "summary": "{\n  \"name\": \"iso_df\",\n  \"rows\": 354,\n  \"fields\": [\n    {\n      \"column\": \"mag_g\",\n      \"properties\": {\n        \"dtype\": \"number\",\n        \"std\": 4.06711956500976,\n        \"min\": 12.7124220134524,\n        \"max\": 28.2947430134524,\n        \"num_unique_values\": 354,\n        \"samples\": [\n          17.8610040134524,\n          24.830457013452403,\n          14.9687730134524\n        ],\n        \"semantic_type\": \"\",\n        \"description\": \"\"\n      }\n    },\n    {\n      \"column\": \"color_g_i\",\n      \"properties\": {\n        \"dtype\": \"number\",\n        \"std\": 0.5291557906637593,\n        \"min\": 0.22795600000000027,\n        \"max\": 2.1950210000000006,\n        \"num_unique_values\": 354,\n        \"samples\": [\n          0.4730669999999999,\n          1.580164,\n          0.8350219999999999\n        ],\n        \"semantic_type\": \"\",\n        \"description\": \"\"\n      }\n    }\n  ]\n}"
            }
          },
          "metadata": {},
          "execution_count": 20
        }
      ],
      "source": [
        "import pandas as pd\n",
        "\n",
        "iso_df = pd.DataFrame()\n",
        "iso_df['mag_g'] = mag_g\n",
        "iso_df['color_g_i'] = color_g_i\n",
        "\n",
        "iso_df.head()"
      ]
    },
    {
      "cell_type": "markdown",
      "metadata": {
        "id": "_1ldL5sJuJLJ"
      },
      "source": [
        "And then save it."
      ]
    },
    {
      "cell_type": "code",
      "execution_count": 21,
      "metadata": {
        "id": "J8Xb7VVjuJLJ",
        "outputId": "10ff677b-f5c0-49c1-87bb-b9e6f197d207",
        "colab": {
          "base_uri": "https://localhost:8080/"
        }
      },
      "outputs": [
        {
          "output_type": "stream",
          "name": "stderr",
          "text": [
            "<ipython-input-21-9fda4c16657a>:2: FutureWarning: Starting with pandas version 3.0 all arguments of to_hdf except for the argument 'path_or_buf' will be keyword-only.\n",
            "  iso_df.to_hdf(filename, 'iso_df')\n"
          ]
        }
      ],
      "source": [
        "filename = 'gd1_isochrone.hdf5'\n",
        "iso_df.to_hdf(filename, 'iso_df')"
      ]
    },
    {
      "cell_type": "markdown",
      "metadata": {
        "id": "g9KqfsE_uJLJ"
      },
      "source": [
        "## Making a polygon\n",
        "\n",
        "The following cell downloads the isochrone we made in the previous section, if necessary."
      ]
    },
    {
      "cell_type": "code",
      "execution_count": 22,
      "metadata": {
        "id": "quddK9iQuJLJ"
      },
      "outputs": [],
      "source": [
        "download('https://github.com/AllenDowney/AstronomicalData/raw/main/data/' +\n",
        "         'gd1_isochrone.hdf5')"
      ]
    },
    {
      "cell_type": "markdown",
      "metadata": {
        "id": "xdwUqq4luJLJ"
      },
      "source": [
        "Now we can read it back in."
      ]
    },
    {
      "cell_type": "code",
      "execution_count": 23,
      "metadata": {
        "id": "gT5-ZjffuJLJ",
        "outputId": "fbfd452f-e99f-496e-c1ea-eb8218e42fc6",
        "colab": {
          "base_uri": "https://localhost:8080/",
          "height": 206
        }
      },
      "outputs": [
        {
          "output_type": "execute_result",
          "data": {
            "text/plain": [
              "       mag_g  color_g_i\n",
              "0  28.294743   2.195021\n",
              "1  28.189718   2.166076\n",
              "2  28.051761   2.129312\n",
              "3  27.916194   2.093721\n",
              "4  27.780024   2.058585"
            ],
            "text/html": [
              "\n",
              "  <div id=\"df-943924e3-4921-4f4c-b9fe-0c2810f5fb4d\" class=\"colab-df-container\">\n",
              "    <div>\n",
              "<style scoped>\n",
              "    .dataframe tbody tr th:only-of-type {\n",
              "        vertical-align: middle;\n",
              "    }\n",
              "\n",
              "    .dataframe tbody tr th {\n",
              "        vertical-align: top;\n",
              "    }\n",
              "\n",
              "    .dataframe thead th {\n",
              "        text-align: right;\n",
              "    }\n",
              "</style>\n",
              "<table border=\"1\" class=\"dataframe\">\n",
              "  <thead>\n",
              "    <tr style=\"text-align: right;\">\n",
              "      <th></th>\n",
              "      <th>mag_g</th>\n",
              "      <th>color_g_i</th>\n",
              "    </tr>\n",
              "  </thead>\n",
              "  <tbody>\n",
              "    <tr>\n",
              "      <th>0</th>\n",
              "      <td>28.294743</td>\n",
              "      <td>2.195021</td>\n",
              "    </tr>\n",
              "    <tr>\n",
              "      <th>1</th>\n",
              "      <td>28.189718</td>\n",
              "      <td>2.166076</td>\n",
              "    </tr>\n",
              "    <tr>\n",
              "      <th>2</th>\n",
              "      <td>28.051761</td>\n",
              "      <td>2.129312</td>\n",
              "    </tr>\n",
              "    <tr>\n",
              "      <th>3</th>\n",
              "      <td>27.916194</td>\n",
              "      <td>2.093721</td>\n",
              "    </tr>\n",
              "    <tr>\n",
              "      <th>4</th>\n",
              "      <td>27.780024</td>\n",
              "      <td>2.058585</td>\n",
              "    </tr>\n",
              "  </tbody>\n",
              "</table>\n",
              "</div>\n",
              "    <div class=\"colab-df-buttons\">\n",
              "\n",
              "  <div class=\"colab-df-container\">\n",
              "    <button class=\"colab-df-convert\" onclick=\"convertToInteractive('df-943924e3-4921-4f4c-b9fe-0c2810f5fb4d')\"\n",
              "            title=\"Convert this dataframe to an interactive table.\"\n",
              "            style=\"display:none;\">\n",
              "\n",
              "  <svg xmlns=\"http://www.w3.org/2000/svg\" height=\"24px\" viewBox=\"0 -960 960 960\">\n",
              "    <path d=\"M120-120v-720h720v720H120Zm60-500h600v-160H180v160Zm220 220h160v-160H400v160Zm0 220h160v-160H400v160ZM180-400h160v-160H180v160Zm440 0h160v-160H620v160ZM180-180h160v-160H180v160Zm440 0h160v-160H620v160Z\"/>\n",
              "  </svg>\n",
              "    </button>\n",
              "\n",
              "  <style>\n",
              "    .colab-df-container {\n",
              "      display:flex;\n",
              "      gap: 12px;\n",
              "    }\n",
              "\n",
              "    .colab-df-convert {\n",
              "      background-color: #E8F0FE;\n",
              "      border: none;\n",
              "      border-radius: 50%;\n",
              "      cursor: pointer;\n",
              "      display: none;\n",
              "      fill: #1967D2;\n",
              "      height: 32px;\n",
              "      padding: 0 0 0 0;\n",
              "      width: 32px;\n",
              "    }\n",
              "\n",
              "    .colab-df-convert:hover {\n",
              "      background-color: #E2EBFA;\n",
              "      box-shadow: 0px 1px 2px rgba(60, 64, 67, 0.3), 0px 1px 3px 1px rgba(60, 64, 67, 0.15);\n",
              "      fill: #174EA6;\n",
              "    }\n",
              "\n",
              "    .colab-df-buttons div {\n",
              "      margin-bottom: 4px;\n",
              "    }\n",
              "\n",
              "    [theme=dark] .colab-df-convert {\n",
              "      background-color: #3B4455;\n",
              "      fill: #D2E3FC;\n",
              "    }\n",
              "\n",
              "    [theme=dark] .colab-df-convert:hover {\n",
              "      background-color: #434B5C;\n",
              "      box-shadow: 0px 1px 3px 1px rgba(0, 0, 0, 0.15);\n",
              "      filter: drop-shadow(0px 1px 2px rgba(0, 0, 0, 0.3));\n",
              "      fill: #FFFFFF;\n",
              "    }\n",
              "  </style>\n",
              "\n",
              "    <script>\n",
              "      const buttonEl =\n",
              "        document.querySelector('#df-943924e3-4921-4f4c-b9fe-0c2810f5fb4d button.colab-df-convert');\n",
              "      buttonEl.style.display =\n",
              "        google.colab.kernel.accessAllowed ? 'block' : 'none';\n",
              "\n",
              "      async function convertToInteractive(key) {\n",
              "        const element = document.querySelector('#df-943924e3-4921-4f4c-b9fe-0c2810f5fb4d');\n",
              "        const dataTable =\n",
              "          await google.colab.kernel.invokeFunction('convertToInteractive',\n",
              "                                                    [key], {});\n",
              "        if (!dataTable) return;\n",
              "\n",
              "        const docLinkHtml = 'Like what you see? Visit the ' +\n",
              "          '<a target=\"_blank\" href=https://colab.research.google.com/notebooks/data_table.ipynb>data table notebook</a>'\n",
              "          + ' to learn more about interactive tables.';\n",
              "        element.innerHTML = '';\n",
              "        dataTable['output_type'] = 'display_data';\n",
              "        await google.colab.output.renderOutput(dataTable, element);\n",
              "        const docLink = document.createElement('div');\n",
              "        docLink.innerHTML = docLinkHtml;\n",
              "        element.appendChild(docLink);\n",
              "      }\n",
              "    </script>\n",
              "  </div>\n",
              "\n",
              "\n",
              "<div id=\"df-d525563c-c227-47df-b095-2d3a717adb86\">\n",
              "  <button class=\"colab-df-quickchart\" onclick=\"quickchart('df-d525563c-c227-47df-b095-2d3a717adb86')\"\n",
              "            title=\"Suggest charts\"\n",
              "            style=\"display:none;\">\n",
              "\n",
              "<svg xmlns=\"http://www.w3.org/2000/svg\" height=\"24px\"viewBox=\"0 0 24 24\"\n",
              "     width=\"24px\">\n",
              "    <g>\n",
              "        <path d=\"M19 3H5c-1.1 0-2 .9-2 2v14c0 1.1.9 2 2 2h14c1.1 0 2-.9 2-2V5c0-1.1-.9-2-2-2zM9 17H7v-7h2v7zm4 0h-2V7h2v10zm4 0h-2v-4h2v4z\"/>\n",
              "    </g>\n",
              "</svg>\n",
              "  </button>\n",
              "\n",
              "<style>\n",
              "  .colab-df-quickchart {\n",
              "      --bg-color: #E8F0FE;\n",
              "      --fill-color: #1967D2;\n",
              "      --hover-bg-color: #E2EBFA;\n",
              "      --hover-fill-color: #174EA6;\n",
              "      --disabled-fill-color: #AAA;\n",
              "      --disabled-bg-color: #DDD;\n",
              "  }\n",
              "\n",
              "  [theme=dark] .colab-df-quickchart {\n",
              "      --bg-color: #3B4455;\n",
              "      --fill-color: #D2E3FC;\n",
              "      --hover-bg-color: #434B5C;\n",
              "      --hover-fill-color: #FFFFFF;\n",
              "      --disabled-bg-color: #3B4455;\n",
              "      --disabled-fill-color: #666;\n",
              "  }\n",
              "\n",
              "  .colab-df-quickchart {\n",
              "    background-color: var(--bg-color);\n",
              "    border: none;\n",
              "    border-radius: 50%;\n",
              "    cursor: pointer;\n",
              "    display: none;\n",
              "    fill: var(--fill-color);\n",
              "    height: 32px;\n",
              "    padding: 0;\n",
              "    width: 32px;\n",
              "  }\n",
              "\n",
              "  .colab-df-quickchart:hover {\n",
              "    background-color: var(--hover-bg-color);\n",
              "    box-shadow: 0 1px 2px rgba(60, 64, 67, 0.3), 0 1px 3px 1px rgba(60, 64, 67, 0.15);\n",
              "    fill: var(--button-hover-fill-color);\n",
              "  }\n",
              "\n",
              "  .colab-df-quickchart-complete:disabled,\n",
              "  .colab-df-quickchart-complete:disabled:hover {\n",
              "    background-color: var(--disabled-bg-color);\n",
              "    fill: var(--disabled-fill-color);\n",
              "    box-shadow: none;\n",
              "  }\n",
              "\n",
              "  .colab-df-spinner {\n",
              "    border: 2px solid var(--fill-color);\n",
              "    border-color: transparent;\n",
              "    border-bottom-color: var(--fill-color);\n",
              "    animation:\n",
              "      spin 1s steps(1) infinite;\n",
              "  }\n",
              "\n",
              "  @keyframes spin {\n",
              "    0% {\n",
              "      border-color: transparent;\n",
              "      border-bottom-color: var(--fill-color);\n",
              "      border-left-color: var(--fill-color);\n",
              "    }\n",
              "    20% {\n",
              "      border-color: transparent;\n",
              "      border-left-color: var(--fill-color);\n",
              "      border-top-color: var(--fill-color);\n",
              "    }\n",
              "    30% {\n",
              "      border-color: transparent;\n",
              "      border-left-color: var(--fill-color);\n",
              "      border-top-color: var(--fill-color);\n",
              "      border-right-color: var(--fill-color);\n",
              "    }\n",
              "    40% {\n",
              "      border-color: transparent;\n",
              "      border-right-color: var(--fill-color);\n",
              "      border-top-color: var(--fill-color);\n",
              "    }\n",
              "    60% {\n",
              "      border-color: transparent;\n",
              "      border-right-color: var(--fill-color);\n",
              "    }\n",
              "    80% {\n",
              "      border-color: transparent;\n",
              "      border-right-color: var(--fill-color);\n",
              "      border-bottom-color: var(--fill-color);\n",
              "    }\n",
              "    90% {\n",
              "      border-color: transparent;\n",
              "      border-bottom-color: var(--fill-color);\n",
              "    }\n",
              "  }\n",
              "</style>\n",
              "\n",
              "  <script>\n",
              "    async function quickchart(key) {\n",
              "      const quickchartButtonEl =\n",
              "        document.querySelector('#' + key + ' button');\n",
              "      quickchartButtonEl.disabled = true;  // To prevent multiple clicks.\n",
              "      quickchartButtonEl.classList.add('colab-df-spinner');\n",
              "      try {\n",
              "        const charts = await google.colab.kernel.invokeFunction(\n",
              "            'suggestCharts', [key], {});\n",
              "      } catch (error) {\n",
              "        console.error('Error during call to suggestCharts:', error);\n",
              "      }\n",
              "      quickchartButtonEl.classList.remove('colab-df-spinner');\n",
              "      quickchartButtonEl.classList.add('colab-df-quickchart-complete');\n",
              "    }\n",
              "    (() => {\n",
              "      let quickchartButtonEl =\n",
              "        document.querySelector('#df-d525563c-c227-47df-b095-2d3a717adb86 button');\n",
              "      quickchartButtonEl.style.display =\n",
              "        google.colab.kernel.accessAllowed ? 'block' : 'none';\n",
              "    })();\n",
              "  </script>\n",
              "</div>\n",
              "\n",
              "    </div>\n",
              "  </div>\n"
            ],
            "application/vnd.google.colaboratory.intrinsic+json": {
              "type": "dataframe",
              "variable_name": "iso_df",
              "summary": "{\n  \"name\": \"iso_df\",\n  \"rows\": 354,\n  \"fields\": [\n    {\n      \"column\": \"mag_g\",\n      \"properties\": {\n        \"dtype\": \"number\",\n        \"std\": 4.06711956500976,\n        \"min\": 12.7124220134524,\n        \"max\": 28.2947430134524,\n        \"num_unique_values\": 354,\n        \"samples\": [\n          17.8610040134524,\n          24.830457013452403,\n          14.9687730134524\n        ],\n        \"semantic_type\": \"\",\n        \"description\": \"\"\n      }\n    },\n    {\n      \"column\": \"color_g_i\",\n      \"properties\": {\n        \"dtype\": \"number\",\n        \"std\": 0.5291557906637593,\n        \"min\": 0.22795600000000027,\n        \"max\": 2.1950210000000006,\n        \"num_unique_values\": 354,\n        \"samples\": [\n          0.4730669999999999,\n          1.580164,\n          0.8350219999999999\n        ],\n        \"semantic_type\": \"\",\n        \"description\": \"\"\n      }\n    }\n  ]\n}"
            }
          },
          "metadata": {},
          "execution_count": 23
        }
      ],
      "source": [
        "filename = 'gd1_isochrone.hdf5'\n",
        "iso_df = pd.read_hdf(filename, 'iso_df')\n",
        "iso_df.head()"
      ]
    },
    {
      "cell_type": "markdown",
      "metadata": {
        "id": "EUVaJgBXuJLJ"
      },
      "source": [
        "Here's what the isochrone looks like on the color-magnitude diagram."
      ]
    },
    {
      "cell_type": "code",
      "execution_count": 24,
      "metadata": {
        "id": "HalnTVVpuJLJ",
        "outputId": "5ce6bd23-292a-4ba9-fb0b-b3b4fe4cc64b",
        "colab": {
          "base_uri": "https://localhost:8080/",
          "height": 459
        }
      },
      "outputs": [
        {
          "output_type": "display_data",
          "data": {
            "text/plain": [
              "<Figure size 640x480 with 1 Axes>"
            ],
            "image/png": "[encoded data removed]"
          },
          "metadata": {}
        }
      ],
      "source": [
        "plot_cmd(candidate_df)\n",
        "plt.plot(iso_df['color_g_i'], iso_df['mag_g']);"
      ]
    },
    {
      "cell_type": "markdown",
      "metadata": {
        "id": "rKFjCeZ1uJLK"
      },
      "source": [
        "In the bottom half of the figure, the isochrone passes through the overdense region where the stars are likely to belong to GD-1.\n",
        "\n",
        "In the top half, the isochrone passes through other regions where the stars have higher magnitude and metallicity than we expect for stars in GD-1.\n",
        "\n",
        "So we'll select the part of the isochrone that lies in the overdense region.\n",
        "\n",
        "`g_mask` is a Boolean Series that is `True` where `g` is between 18.0 and 21.5."
      ]
    },
    {
      "cell_type": "code",
      "execution_count": 25,
      "metadata": {
        "id": "apohmcHeuJLK",
        "outputId": "081f48f7-1754-4f6d-9d3d-8713916b4d2d",
        "colab": {
          "base_uri": "https://localhost:8080/"
        }
      },
      "outputs": [
        {
          "output_type": "execute_result",
          "data": {
            "text/plain": [
              "117"
            ]
          },
          "metadata": {},
          "execution_count": 25
        }
      ],
      "source": [
        "g = iso_df['mag_g']\n",
        "\n",
        "g_mask = (g > 18.0) & (g < 21.5)\n",
        "g_mask.sum()"
      ]
    },
    {
      "cell_type": "markdown",
      "metadata": {
        "id": "vcNgPdN3uJLK"
      },
      "source": [
        "We can use it to select the corresponding rows in `iso_df`:"
      ]
    },
    {
      "cell_type": "code",
      "execution_count": 26,
      "metadata": {
        "id": "6gbHfeP_uJLK",
        "outputId": "646f1ef9-a7ce-4c89-bd18-e5eeabcd9e86",
        "colab": {
          "base_uri": "https://localhost:8080/",
          "height": 206
        }
      },
      "outputs": [
        {
          "output_type": "execute_result",
          "data": {
            "text/plain": [
              "        mag_g  color_g_i\n",
              "94  21.411746   0.692171\n",
              "95  21.322466   0.670238\n",
              "96  21.233380   0.648449\n",
              "97  21.144427   0.626924\n",
              "98  21.054549   0.605461"
            ],
            "text/html": [
              "\n",
              "  <div id=\"df-86ba0d2f-ed33-4d58-a80d-02a67fd68c59\" class=\"colab-df-container\">\n",
              "    <div>\n",
              "<style scoped>\n",
              "    .dataframe tbody tr th:only-of-type {\n",
              "        vertical-align: middle;\n",
              "    }\n",
              "\n",
              "    .dataframe tbody tr th {\n",
              "        vertical-align: top;\n",
              "    }\n",
              "\n",
              "    .dataframe thead th {\n",
              "        text-align: right;\n",
              "    }\n",
              "</style>\n",
              "<table border=\"1\" class=\"dataframe\">\n",
              "  <thead>\n",
              "    <tr style=\"text-align: right;\">\n",
              "      <th></th>\n",
              "      <th>mag_g</th>\n",
              "      <th>color_g_i</th>\n",
              "    </tr>\n",
              "  </thead>\n",
              "  <tbody>\n",
              "    <tr>\n",
              "      <th>94</th>\n",
              "      <td>21.411746</td>\n",
              "      <td>0.692171</td>\n",
              "    </tr>\n",
              "    <tr>\n",
              "      <th>95</th>\n",
              "      <td>21.322466</td>\n",
              "      <td>0.670238</td>\n",
              "    </tr>\n",
              "    <tr>\n",
              "      <th>96</th>\n",
              "      <td>21.233380</td>\n",
              "      <td>0.648449</td>\n",
              "    </tr>\n",
              "    <tr>\n",
              "      <th>97</th>\n",
              "      <td>21.144427</td>\n",
              "      <td>0.626924</td>\n",
              "    </tr>\n",
              "    <tr>\n",
              "      <th>98</th>\n",
              "      <td>21.054549</td>\n",
              "      <td>0.605461</td>\n",
              "    </tr>\n",
              "  </tbody>\n",
              "</table>\n",
              "</div>\n",
              "    <div class=\"colab-df-buttons\">\n",
              "\n",
              "  <div class=\"colab-df-container\">\n",
              "    <button class=\"colab-df-convert\" onclick=\"convertToInteractive('df-86ba0d2f-ed33-4d58-a80d-02a67fd68c59')\"\n",
              "            title=\"Convert this dataframe to an interactive table.\"\n",
              "            style=\"display:none;\">\n",
              "\n",
              "  <svg xmlns=\"http://www.w3.org/2000/svg\" height=\"24px\" viewBox=\"0 -960 960 960\">\n",
              "    <path d=\"M120-120v-720h720v720H120Zm60-500h600v-160H180v160Zm220 220h160v-160H400v160Zm0 220h160v-160H400v160ZM180-400h160v-160H180v160Zm440 0h160v-160H620v160ZM180-180h160v-160H180v160Zm440 0h160v-160H620v160Z\"/>\n",
              "  </svg>\n",
              "    </button>\n",
              "\n",
              "  <style>\n",
              "    .colab-df-container {\n",
              "      display:flex;\n",
              "      gap: 12px;\n",
              "    }\n",
              "\n",
              "    .colab-df-convert {\n",
              "      background-color: #E8F0FE;\n",
              "      border: none;\n",
              "      border-radius: 50%;\n",
              "      cursor: pointer;\n",
              "      display: none;\n",
              "      fill: #1967D2;\n",
              "      height: 32px;\n",
              "      padding: 0 0 0 0;\n",
              "      width: 32px;\n",
              "    }\n",
              "\n",
              "    .colab-df-convert:hover {\n",
              "      background-color: #E2EBFA;\n",
              "      box-shadow: 0px 1px 2px rgba(60, 64, 67, 0.3), 0px 1px 3px 1px rgba(60, 64, 67, 0.15);\n",
              "      fill: #174EA6;\n",
              "    }\n",
              "\n",
              "    .colab-df-buttons div {\n",
              "      margin-bottom: 4px;\n",
              "    }\n",
              "\n",
              "    [theme=dark] .colab-df-convert {\n",
              "      background-color: #3B4455;\n",
              "      fill: #D2E3FC;\n",
              "    }\n",
              "\n",
              "    [theme=dark] .colab-df-convert:hover {\n",
              "      background-color: #434B5C;\n",
              "      box-shadow: 0px 1px 3px 1px rgba(0, 0, 0, 0.15);\n",
              "      filter: drop-shadow(0px 1px 2px rgba(0, 0, 0, 0.3));\n",
              "      fill: #FFFFFF;\n",
              "    }\n",
              "  </style>\n",
              "\n",
              "    <script>\n",
              "      const buttonEl =\n",
              "        document.querySelector('#df-86ba0d2f-ed33-4d58-a80d-02a67fd68c59 button.colab-df-convert');\n",
              "      buttonEl.style.display =\n",
              "        google.colab.kernel.accessAllowed ? 'block' : 'none';\n",
              "\n",
              "      async function convertToInteractive(key) {\n",
              "        const element = document.querySelector('#df-86ba0d2f-ed33-4d58-a80d-02a67fd68c59');\n",
              "        const dataTable =\n",
              "          await google.colab.kernel.invokeFunction('convertToInteractive',\n",
              "                                                    [key], {});\n",
              "        if (!dataTable) return;\n",
              "\n",
              "        const docLinkHtml = 'Like what you see? Visit the ' +\n",
              "          '<a target=\"_blank\" href=https://colab.research.google.com/notebooks/data_table.ipynb>data table notebook</a>'\n",
              "          + ' to learn more about interactive tables.';\n",
              "        element.innerHTML = '';\n",
              "        dataTable['output_type'] = 'display_data';\n",
              "        await google.colab.output.renderOutput(dataTable, element);\n",
              "        const docLink = document.createElement('div');\n",
              "        docLink.innerHTML = docLinkHtml;\n",
              "        element.appendChild(docLink);\n",
              "      }\n",
              "    </script>\n",
              "  </div>\n",
              "\n",
              "\n",
              "<div id=\"df-c53f83d4-5cc0-493a-93a5-df035804d557\">\n",
              "  <button class=\"colab-df-quickchart\" onclick=\"quickchart('df-c53f83d4-5cc0-493a-93a5-df035804d557')\"\n",
              "            title=\"Suggest charts\"\n",
              "            style=\"display:none;\">\n",
              "\n",
              "<svg xmlns=\"http://www.w3.org/2000/svg\" height=\"24px\"viewBox=\"0 0 24 24\"\n",
              "     width=\"24px\">\n",
              "    <g>\n",
              "        <path d=\"M19 3H5c-1.1 0-2 .9-2 2v14c0 1.1.9 2 2 2h14c1.1 0 2-.9 2-2V5c0-1.1-.9-2-2-2zM9 17H7v-7h2v7zm4 0h-2V7h2v10zm4 0h-2v-4h2v4z\"/>\n",
              "    </g>\n",
              "</svg>\n",
              "  </button>\n",
              "\n",
              "<style>\n",
              "  .colab-df-quickchart {\n",
              "      --bg-color: #E8F0FE;\n",
              "      --fill-color: #1967D2;\n",
              "      --hover-bg-color: #E2EBFA;\n",
              "      --hover-fill-color: #174EA6;\n",
              "      --disabled-fill-color: #AAA;\n",
              "      --disabled-bg-color: #DDD;\n",
              "  }\n",
              "\n",
              "  [theme=dark] .colab-df-quickchart {\n",
              "      --bg-color: #3B4455;\n",
              "      --fill-color: #D2E3FC;\n",
              "      --hover-bg-color: #434B5C;\n",
              "      --hover-fill-color: #FFFFFF;\n",
              "      --disabled-bg-color: #3B4455;\n",
              "      --disabled-fill-color: #666;\n",
              "  }\n",
              "\n",
              "  .colab-df-quickchart {\n",
              "    background-color: var(--bg-color);\n",
              "    border: none;\n",
              "    border-radius: 50%;\n",
              "    cursor: pointer;\n",
              "    display: none;\n",
              "    fill: var(--fill-color);\n",
              "    height: 32px;\n",
              "    padding: 0;\n",
              "    width: 32px;\n",
              "  }\n",
              "\n",
              "  .colab-df-quickchart:hover {\n",
              "    background-color: var(--hover-bg-color);\n",
              "    box-shadow: 0 1px 2px rgba(60, 64, 67, 0.3), 0 1px 3px 1px rgba(60, 64, 67, 0.15);\n",
              "    fill: var(--button-hover-fill-color);\n",
              "  }\n",
              "\n",
              "  .colab-df-quickchart-complete:disabled,\n",
              "  .colab-df-quickchart-complete:disabled:hover {\n",
              "    background-color: var(--disabled-bg-color);\n",
              "    fill: var(--disabled-fill-color);\n",
              "    box-shadow: none;\n",
              "  }\n",
              "\n",
              "  .colab-df-spinner {\n",
              "    border: 2px solid var(--fill-color);\n",
              "    border-color: transparent;\n",
              "    border-bottom-color: var(--fill-color);\n",
              "    animation:\n",
              "      spin 1s steps(1) infinite;\n",
              "  }\n",
              "\n",
              "  @keyframes spin {\n",
              "    0% {\n",
              "      border-color: transparent;\n",
              "      border-bottom-color: var(--fill-color);\n",
              "      border-left-color: var(--fill-color);\n",
              "    }\n",
              "    20% {\n",
              "      border-color: transparent;\n",
              "      border-left-color: var(--fill-color);\n",
              "      border-top-color: var(--fill-color);\n",
              "    }\n",
              "    30% {\n",
              "      border-color: transparent;\n",
              "      border-left-color: var(--fill-color);\n",
              "      border-top-color: var(--fill-color);\n",
              "      border-right-color: var(--fill-color);\n",
              "    }\n",
              "    40% {\n",
              "      border-color: transparent;\n",
              "      border-right-color: var(--fill-color);\n",
              "      border-top-color: var(--fill-color);\n",
              "    }\n",
              "    60% {\n",
              "      border-color: transparent;\n",
              "      border-right-color: var(--fill-color);\n",
              "    }\n",
              "    80% {\n",
              "      border-color: transparent;\n",
              "      border-right-color: var(--fill-color);\n",
              "      border-bottom-color: var(--fill-color);\n",
              "    }\n",
              "    90% {\n",
              "      border-color: transparent;\n",
              "      border-bottom-color: var(--fill-color);\n",
              "    }\n",
              "  }\n",
              "</style>\n",
              "\n",
              "  <script>\n",
              "    async function quickchart(key) {\n",
              "      const quickchartButtonEl =\n",
              "        document.querySelector('#' + key + ' button');\n",
              "      quickchartButtonEl.disabled = true;  // To prevent multiple clicks.\n",
              "      quickchartButtonEl.classList.add('colab-df-spinner');\n",
              "      try {\n",
              "        const charts = await google.colab.kernel.invokeFunction(\n",
              "            'suggestCharts', [key], {});\n",
              "      } catch (error) {\n",
              "        console.error('Error during call to suggestCharts:', error);\n",
              "      }\n",
              "      quickchartButtonEl.classList.remove('colab-df-spinner');\n",
              "      quickchartButtonEl.classList.add('colab-df-quickchart-complete');\n",
              "    }\n",
              "    (() => {\n",
              "      let quickchartButtonEl =\n",
              "        document.querySelector('#df-c53f83d4-5cc0-493a-93a5-df035804d557 button');\n",
              "      quickchartButtonEl.style.display =\n",
              "        google.colab.kernel.accessAllowed ? 'block' : 'none';\n",
              "    })();\n",
              "  </script>\n",
              "</div>\n",
              "\n",
              "    </div>\n",
              "  </div>\n"
            ],
            "application/vnd.google.colaboratory.intrinsic+json": {
              "type": "dataframe",
              "variable_name": "iso_masked",
              "summary": "{\n  \"name\": \"iso_masked\",\n  \"rows\": 117,\n  \"fields\": [\n    {\n      \"column\": \"mag_g\",\n      \"properties\": {\n        \"dtype\": \"number\",\n        \"std\": 0.8941122928779499,\n        \"min\": 18.0122760134524,\n        \"max\": 21.4117460134524,\n        \"num_unique_values\": 117,\n        \"samples\": [\n          19.631137013452403,\n          21.0545490134524,\n          19.3904510134524\n        ],\n        \"semantic_type\": \"\",\n        \"description\": \"\"\n      }\n    },\n    {\n      \"column\": \"color_g_i\",\n      \"properties\": {\n        \"dtype\": \"number\",\n        \"std\": 0.11294938916754511,\n        \"min\": 0.22795600000000027,\n        \"max\": 0.6921709999999992,\n        \"num_unique_values\": 117,\n        \"samples\": [\n          0.3240370000000006,\n          0.605461,\n          0.2924750000000005\n        ],\n        \"semantic_type\": \"\",\n        \"description\": \"\"\n      }\n    }\n  ]\n}"
            }
          },
          "metadata": {},
          "execution_count": 26
        }
      ],
      "source": [
        "iso_masked = iso_df[g_mask]\n",
        "iso_masked.head()"
      ]
    },
    {
      "cell_type": "markdown",
      "metadata": {
        "id": "tPKi7WFfuJLK"
      },
      "source": [
        "Now, to select the stars in the overdense region, we have to define a polygon that includes stars near the isochrone.\n",
        "\n",
        "The original paper uses the following formulas to define the left and right boundaries."
      ]
    },
    {
      "cell_type": "code",
      "execution_count": 27,
      "metadata": {
        "id": "wqbXiDeAuJLK"
      },
      "outputs": [],
      "source": [
        "g = iso_masked['mag_g']\n",
        "left_color = iso_masked['color_g_i'] - 0.4 * (g/28)**5\n",
        "right_color = iso_masked['color_g_i'] + 0.8 * (g/28)**5"
      ]
    },
    {
      "cell_type": "markdown",
      "metadata": {
        "id": "bKuy_JW_uJLK"
      },
      "source": [
        "The intention is to define a polygon that gets wider as `g` increases, to reflect increasing uncertainty.\n",
        "\n",
        "But we can do about as well with a simpler formula:"
      ]
    },
    {
      "cell_type": "code",
      "execution_count": 28,
      "metadata": {
        "id": "T5V8i8qjuJLK"
      },
      "outputs": [],
      "source": [
        "g = iso_masked['mag_g']\n",
        "left_color = iso_masked['color_g_i'] - 0.06\n",
        "right_color = iso_masked['color_g_i'] + 0.12"
      ]
    },
    {
      "cell_type": "markdown",
      "metadata": {
        "id": "vGJs-Z-HuJLK"
      },
      "source": [
        "Here's what these boundaries look like:"
      ]
    },
    {
      "cell_type": "code",
      "execution_count": 29,
      "metadata": {
        "id": "5hEt--6QuJLK",
        "outputId": "40f7bd82-ffb3-4165-f701-c0eeaacaddd9",
        "colab": {
          "base_uri": "https://localhost:8080/",
          "height": 459
        }
      },
      "outputs": [
        {
          "output_type": "display_data",
          "data": {
            "text/plain": [
              "<Figure size 640x480 with 1 Axes>"
            ],
            "image/png": "[encoded data removed]"
          },
          "metadata": {}
        }
      ],
      "source": [
        "plot_cmd(candidate_df)\n",
        "\n",
        "plt.plot(left_color, g, label='left color')\n",
        "plt.plot(right_color, g, label='right color')\n",
        "\n",
        "plt.legend();"
      ]
    },
    {
      "cell_type": "markdown",
      "metadata": {
        "id": "6nagqjtwuJLK"
      },
      "source": [
        "## Which points are in the polygon?\n",
        "\n",
        "Matplotlib provides a `Polygon` object that we can use to check which points fall in the polygon we just constructed.\n",
        "\n",
        "To make a `Polygon`, we need to assemble `g`, `left_color`, and `right_color` into a loop, so the points in `left_color` are connected to the points of `right_color` in reverse order.\n",
        "\n",
        "We'll use the following function, which takes two arrays and joins them front-to-back:"
      ]
    },
    {
      "cell_type": "code",
      "execution_count": 30,
      "metadata": {
        "id": "LA-qSsWBuJLK"
      },
      "outputs": [],
      "source": [
        "import numpy as np\n",
        "\n",
        "def front_to_back(first, second):\n",
        "    \"\"\"Join two arrays front to back.\"\"\"\n",
        "    return np.append(first, second[::-1])"
      ]
    },
    {
      "cell_type": "markdown",
      "metadata": {
        "id": "VodeLSn8uJLK"
      },
      "source": [
        "`front_to_back` uses a \"slice index\" to reverse the elements of `second`.\n",
        "\n",
        "As explained in the [NumPy documentation](https://numpy.org/doc/stable/reference/arrays.indexing.html), a slice index has three parts separated by colons:\n",
        "\n",
        "* `start`: The index of the element where the slice starts.\n",
        "\n",
        "* `stop`: The index of the element where the slice ends.\n",
        "\n",
        "* `step`: The step size between elements.\n",
        "\n",
        "In this example, `start` and `stop` are omitted, which means all elements are selected.\n",
        "\n",
        "And `step` is `-1`, which means the elements are in reverse order.\n",
        "\n",
        "We can use `front_to_back` to make a loop that includes the elements of `left_color` and `right_color`:"
      ]
    },
    {
      "cell_type": "code",
      "execution_count": 31,
      "metadata": {
        "id": "EaLgvI8AuJLK",
        "outputId": "6710326b-ec9d-4942-9af8-79e5a56e9393",
        "colab": {
          "base_uri": "https://localhost:8080/"
        }
      },
      "outputs": [
        {
          "output_type": "execute_result",
          "data": {
            "text/plain": [
              "(234,)"
            ]
          },
          "metadata": {},
          "execution_count": 31
        }
      ],
      "source": [
        "color_loop = front_to_back(left_color, right_color)\n",
        "color_loop.shape"
      ]
    },
    {
      "cell_type": "markdown",
      "metadata": {
        "id": "ZttTbZDOuJLK"
      },
      "source": [
        "And a corresponding loop with the elements of `g` in forward and reverse order."
      ]
    },
    {
      "cell_type": "code",
      "execution_count": 32,
      "metadata": {
        "id": "INpu70fmuJLK",
        "outputId": "14da8172-43e4-4bbb-aae4-b60dd3573ca0",
        "colab": {
          "base_uri": "https://localhost:8080/"
        }
      },
      "outputs": [
        {
          "output_type": "execute_result",
          "data": {
            "text/plain": [
              "(234,)"
            ]
          },
          "metadata": {},
          "execution_count": 32
        }
      ],
      "source": [
        "mag_loop = front_to_back(g, g)\n",
        "mag_loop.shape"
      ]
    },
    {
      "cell_type": "markdown",
      "metadata": {
        "id": "HOdYMQFPuJLK"
      },
      "source": [
        "Here's what the loop looks like."
      ]
    },
    {
      "cell_type": "code",
      "execution_count": 33,
      "metadata": {
        "id": "pHZk4G-euJLL",
        "outputId": "5f4de876-5038-4904-a6e9-4cbd2716e165",
        "colab": {
          "base_uri": "https://localhost:8080/",
          "height": 459
        }
      },
      "outputs": [
        {
          "output_type": "display_data",
          "data": {
            "text/plain": [
              "<Figure size 640x480 with 1 Axes>"
            ],
            "image/png": "[encoded data removed]"
          },
          "metadata": {}
        }
      ],
      "source": [
        "plot_cmd(candidate_df)\n",
        "plt.plot(color_loop, mag_loop);"
      ]
    },
    {
      "cell_type": "markdown",
      "metadata": {
        "id": "TOAMShZluJLL"
      },
      "source": [
        "To make a `Polygon`, it will be convenient to put `color_loop` and `mag_loop` into a `DataFrame`:"
      ]
    },
    {
      "cell_type": "code",
      "execution_count": 34,
      "metadata": {
        "id": "xTKdkJlmuJLL",
        "outputId": "8bae11f3-30ac-4438-9639-240d07999cbf",
        "colab": {
          "base_uri": "https://localhost:8080/",
          "height": 206
        }
      },
      "outputs": [
        {
          "output_type": "execute_result",
          "data": {
            "text/plain": [
              "   color_loop   mag_loop\n",
              "0    0.632171  21.411746\n",
              "1    0.610238  21.322466\n",
              "2    0.588449  21.233380\n",
              "3    0.566924  21.144427\n",
              "4    0.545461  21.054549"
            ],
            "text/html": [
              "\n",
              "  <div id=\"df-6bf71e02-5b93-46c7-b562-d6d92940180f\" class=\"colab-df-container\">\n",
              "    <div>\n",
              "<style scoped>\n",
              "    .dataframe tbody tr th:only-of-type {\n",
              "        vertical-align: middle;\n",
              "    }\n",
              "\n",
              "    .dataframe tbody tr th {\n",
              "        vertical-align: top;\n",
              "    }\n",
              "\n",
              "    .dataframe thead th {\n",
              "        text-align: right;\n",
              "    }\n",
              "</style>\n",
              "<table border=\"1\" class=\"dataframe\">\n",
              "  <thead>\n",
              "    <tr style=\"text-align: right;\">\n",
              "      <th></th>\n",
              "      <th>color_loop</th>\n",
              "      <th>mag_loop</th>\n",
              "    </tr>\n",
              "  </thead>\n",
              "  <tbody>\n",
              "    <tr>\n",
              "      <th>0</th>\n",
              "      <td>0.632171</td>\n",
              "      <td>21.411746</td>\n",
              "    </tr>\n",
              "    <tr>\n",
              "      <th>1</th>\n",
              "      <td>0.610238</td>\n",
              "      <td>21.322466</td>\n",
              "    </tr>\n",
              "    <tr>\n",
              "      <th>2</th>\n",
              "      <td>0.588449</td>\n",
              "      <td>21.233380</td>\n",
              "    </tr>\n",
              "    <tr>\n",
              "      <th>3</th>\n",
              "      <td>0.566924</td>\n",
              "      <td>21.144427</td>\n",
              "    </tr>\n",
              "    <tr>\n",
              "      <th>4</th>\n",
              "      <td>0.545461</td>\n",
              "      <td>21.054549</td>\n",
              "    </tr>\n",
              "  </tbody>\n",
              "</table>\n",
              "</div>\n",
              "    <div class=\"colab-df-buttons\">\n",
              "\n",
              "  <div class=\"colab-df-container\">\n",
              "    <button class=\"colab-df-convert\" onclick=\"convertToInteractive('df-6bf71e02-5b93-46c7-b562-d6d92940180f')\"\n",
              "            title=\"Convert this dataframe to an interactive table.\"\n",
              "            style=\"display:none;\">\n",
              "\n",
              "  <svg xmlns=\"http://www.w3.org/2000/svg\" height=\"24px\" viewBox=\"0 -960 960 960\">\n",
              "    <path d=\"M120-120v-720h720v720H120Zm60-500h600v-160H180v160Zm220 220h160v-160H400v160Zm0 220h160v-160H400v160ZM180-400h160v-160H180v160Zm440 0h160v-160H620v160ZM180-180h160v-160H180v160Zm440 0h160v-160H620v160Z\"/>\n",
              "  </svg>\n",
              "    </button>\n",
              "\n",
              "  <style>\n",
              "    .colab-df-container {\n",
              "      display:flex;\n",
              "      gap: 12px;\n",
              "    }\n",
              "\n",
              "    .colab-df-convert {\n",
              "      background-color: #E8F0FE;\n",
              "      border: none;\n",
              "      border-radius: 50%;\n",
              "      cursor: pointer;\n",
              "      display: none;\n",
              "      fill: #1967D2;\n",
              "      height: 32px;\n",
              "      padding: 0 0 0 0;\n",
              "      width: 32px;\n",
              "    }\n",
              "\n",
              "    .colab-df-convert:hover {\n",
              "      background-color: #E2EBFA;\n",
              "      box-shadow: 0px 1px 2px rgba(60, 64, 67, 0.3), 0px 1px 3px 1px rgba(60, 64, 67, 0.15);\n",
              "      fill: #174EA6;\n",
              "    }\n",
              "\n",
              "    .colab-df-buttons div {\n",
              "      margin-bottom: 4px;\n",
              "    }\n",
              "\n",
              "    [theme=dark] .colab-df-convert {\n",
              "      background-color: #3B4455;\n",
              "      fill: #D2E3FC;\n",
              "    }\n",
              "\n",
              "    [theme=dark] .colab-df-convert:hover {\n",
              "      background-color: #434B5C;\n",
              "      box-shadow: 0px 1px 3px 1px rgba(0, 0, 0, 0.15);\n",
              "      filter: drop-shadow(0px 1px 2px rgba(0, 0, 0, 0.3));\n",
              "      fill: #FFFFFF;\n",
              "    }\n",
              "  </style>\n",
              "\n",
              "    <script>\n",
              "      const buttonEl =\n",
              "        document.querySelector('#df-6bf71e02-5b93-46c7-b562-d6d92940180f button.colab-df-convert');\n",
              "      buttonEl.style.display =\n",
              "        google.colab.kernel.accessAllowed ? 'block' : 'none';\n",
              "\n",
              "      async function convertToInteractive(key) {\n",
              "        const element = document.querySelector('#df-6bf71e02-5b93-46c7-b562-d6d92940180f');\n",
              "        const dataTable =\n",
              "          await google.colab.kernel.invokeFunction('convertToInteractive',\n",
              "                                                    [key], {});\n",
              "        if (!dataTable) return;\n",
              "\n",
              "        const docLinkHtml = 'Like what you see? Visit the ' +\n",
              "          '<a target=\"_blank\" href=https://colab.research.google.com/notebooks/data_table.ipynb>data table notebook</a>'\n",
              "          + ' to learn more about interactive tables.';\n",
              "        element.innerHTML = '';\n",
              "        dataTable['output_type'] = 'display_data';\n",
              "        await google.colab.output.renderOutput(dataTable, element);\n",
              "        const docLink = document.createElement('div');\n",
              "        docLink.innerHTML = docLinkHtml;\n",
              "        element.appendChild(docLink);\n",
              "      }\n",
              "    </script>\n",
              "  </div>\n",
              "\n",
              "\n",
              "<div id=\"df-692df9a9-6edf-4368-ae3f-0ba687921cc6\">\n",
              "  <button class=\"colab-df-quickchart\" onclick=\"quickchart('df-692df9a9-6edf-4368-ae3f-0ba687921cc6')\"\n",
              "            title=\"Suggest charts\"\n",
              "            style=\"display:none;\">\n",
              "\n",
              "<svg xmlns=\"http://www.w3.org/2000/svg\" height=\"24px\"viewBox=\"0 0 24 24\"\n",
              "     width=\"24px\">\n",
              "    <g>\n",
              "        <path d=\"M19 3H5c-1.1 0-2 .9-2 2v14c0 1.1.9 2 2 2h14c1.1 0 2-.9 2-2V5c0-1.1-.9-2-2-2zM9 17H7v-7h2v7zm4 0h-2V7h2v10zm4 0h-2v-4h2v4z\"/>\n",
              "    </g>\n",
              "</svg>\n",
              "  </button>\n",
              "\n",
              "<style>\n",
              "  .colab-df-quickchart {\n",
              "      --bg-color: #E8F0FE;\n",
              "      --fill-color: #1967D2;\n",
              "      --hover-bg-color: #E2EBFA;\n",
              "      --hover-fill-color: #174EA6;\n",
              "      --disabled-fill-color: #AAA;\n",
              "      --disabled-bg-color: #DDD;\n",
              "  }\n",
              "\n",
              "  [theme=dark] .colab-df-quickchart {\n",
              "      --bg-color: #3B4455;\n",
              "      --fill-color: #D2E3FC;\n",
              "      --hover-bg-color: #434B5C;\n",
              "      --hover-fill-color: #FFFFFF;\n",
              "      --disabled-bg-color: #3B4455;\n",
              "      --disabled-fill-color: #666;\n",
              "  }\n",
              "\n",
              "  .colab-df-quickchart {\n",
              "    background-color: var(--bg-color);\n",
              "    border: none;\n",
              "    border-radius: 50%;\n",
              "    cursor: pointer;\n",
              "    display: none;\n",
              "    fill: var(--fill-color);\n",
              "    height: 32px;\n",
              "    padding: 0;\n",
              "    width: 32px;\n",
              "  }\n",
              "\n",
              "  .colab-df-quickchart:hover {\n",
              "    background-color: var(--hover-bg-color);\n",
              "    box-shadow: 0 1px 2px rgba(60, 64, 67, 0.3), 0 1px 3px 1px rgba(60, 64, 67, 0.15);\n",
              "    fill: var(--button-hover-fill-color);\n",
              "  }\n",
              "\n",
              "  .colab-df-quickchart-complete:disabled,\n",
              "  .colab-df-quickchart-complete:disabled:hover {\n",
              "    background-color: var(--disabled-bg-color);\n",
              "    fill: var(--disabled-fill-color);\n",
              "    box-shadow: none;\n",
              "  }\n",
              "\n",
              "  .colab-df-spinner {\n",
              "    border: 2px solid var(--fill-color);\n",
              "    border-color: transparent;\n",
              "    border-bottom-color: var(--fill-color);\n",
              "    animation:\n",
              "      spin 1s steps(1) infinite;\n",
              "  }\n",
              "\n",
              "  @keyframes spin {\n",
              "    0% {\n",
              "      border-color: transparent;\n",
              "      border-bottom-color: var(--fill-color);\n",
              "      border-left-color: var(--fill-color);\n",
              "    }\n",
              "    20% {\n",
              "      border-color: transparent;\n",
              "      border-left-color: var(--fill-color);\n",
              "      border-top-color: var(--fill-color);\n",
              "    }\n",
              "    30% {\n",
              "      border-color: transparent;\n",
              "      border-left-color: var(--fill-color);\n",
              "      border-top-color: var(--fill-color);\n",
              "      border-right-color: var(--fill-color);\n",
              "    }\n",
              "    40% {\n",
              "      border-color: transparent;\n",
              "      border-right-color: var(--fill-color);\n",
              "      border-top-color: var(--fill-color);\n",
              "    }\n",
              "    60% {\n",
              "      border-color: transparent;\n",
              "      border-right-color: var(--fill-color);\n",
              "    }\n",
              "    80% {\n",
              "      border-color: transparent;\n",
              "      border-right-color: var(--fill-color);\n",
              "      border-bottom-color: var(--fill-color);\n",
              "    }\n",
              "    90% {\n",
              "      border-color: transparent;\n",
              "      border-bottom-color: var(--fill-color);\n",
              "    }\n",
              "  }\n",
              "</style>\n",
              "\n",
              "  <script>\n",
              "    async function quickchart(key) {\n",
              "      const quickchartButtonEl =\n",
              "        document.querySelector('#' + key + ' button');\n",
              "      quickchartButtonEl.disabled = true;  // To prevent multiple clicks.\n",
              "      quickchartButtonEl.classList.add('colab-df-spinner');\n",
              "      try {\n",
              "        const charts = await google.colab.kernel.invokeFunction(\n",
              "            'suggestCharts', [key], {});\n",
              "      } catch (error) {\n",
              "        console.error('Error during call to suggestCharts:', error);\n",
              "      }\n",
              "      quickchartButtonEl.classList.remove('colab-df-spinner');\n",
              "      quickchartButtonEl.classList.add('colab-df-quickchart-complete');\n",
              "    }\n",
              "    (() => {\n",
              "      let quickchartButtonEl =\n",
              "        document.querySelector('#df-692df9a9-6edf-4368-ae3f-0ba687921cc6 button');\n",
              "      quickchartButtonEl.style.display =\n",
              "        google.colab.kernel.accessAllowed ? 'block' : 'none';\n",
              "    })();\n",
              "  </script>\n",
              "</div>\n",
              "\n",
              "    </div>\n",
              "  </div>\n"
            ],
            "application/vnd.google.colaboratory.intrinsic+json": {
              "type": "dataframe",
              "variable_name": "loop_df",
              "summary": "{\n  \"name\": \"loop_df\",\n  \"rows\": 234,\n  \"fields\": [\n    {\n      \"column\": \"color_loop\",\n      \"properties\": {\n        \"dtype\": \"number\",\n        \"std\": 0.14435225999635085,\n        \"min\": 0.16795600000000027,\n        \"max\": 0.8121709999999992,\n        \"num_unique_values\": 234,\n        \"samples\": [\n          0.18938799999999972,\n          0.5198480000000004,\n          0.4124750000000005\n        ],\n        \"semantic_type\": \"\",\n        \"description\": \"\"\n      }\n    },\n    {\n      \"column\": \"mag_loop\",\n      \"properties\": {\n        \"dtype\": \"number\",\n        \"std\": 0.8921915338542222,\n        \"min\": 18.0122760134524,\n        \"max\": 21.4117460134524,\n        \"num_unique_values\": 117,\n        \"samples\": [\n          19.631137013452403,\n          21.0545490134524,\n          19.3904510134524\n        ],\n        \"semantic_type\": \"\",\n        \"description\": \"\"\n      }\n    }\n  ]\n}"
            }
          },
          "metadata": {},
          "execution_count": 34
        }
      ],
      "source": [
        "loop_df = pd.DataFrame()\n",
        "loop_df['color_loop'] = color_loop\n",
        "loop_df['mag_loop'] = mag_loop\n",
        "loop_df.head()"
      ]
    },
    {
      "cell_type": "markdown",
      "metadata": {
        "id": "YVSitbLTuJLL"
      },
      "source": [
        "Now we can pass `loop_df` to `Polygon`:"
      ]
    },
    {
      "cell_type": "code",
      "execution_count": 35,
      "metadata": {
        "id": "XC4uzCAuuJLL",
        "outputId": "47ae309a-998b-43d2-d58e-c2a24720fc70",
        "colab": {
          "base_uri": "https://localhost:8080/"
        }
      },
      "outputs": [
        {
          "output_type": "execute_result",
          "data": {
            "text/plain": [
              "<matplotlib.patches.Polygon at 0x7bc6eca37f50>"
            ]
          },
          "metadata": {},
          "execution_count": 35
        }
      ],
      "source": [
        "from matplotlib.patches import Polygon\n",
        "\n",
        "polygon = Polygon(loop_df)\n",
        "polygon"
      ]
    },
    {
      "cell_type": "markdown",
      "metadata": {
        "id": "3J-harjouJLL"
      },
      "source": [
        "The result is a `Polygon` object , which provides `contains_points`, which figures out which points are inside the polygon.\n",
        "\n",
        "To test it, we'll create a list with two points, one inside the polygon and one outside."
      ]
    },
    {
      "cell_type": "code",
      "execution_count": 36,
      "metadata": {
        "id": "4qkyTIzeuJLL"
      },
      "outputs": [],
      "source": [
        "points = [(0.4, 20),\n",
        "          (0.4, 16)]"
      ]
    },
    {
      "cell_type": "markdown",
      "metadata": {
        "id": "jJAxzJ5YuJLL"
      },
      "source": [
        "Now we can make sure `contains_points` does what we expect."
      ]
    },
    {
      "cell_type": "code",
      "execution_count": 37,
      "metadata": {
        "id": "Eavn4XROuJLL",
        "outputId": "d06f162b-01a5-48c5-b89e-81ba94577f5a",
        "colab": {
          "base_uri": "https://localhost:8080/"
        }
      },
      "outputs": [
        {
          "output_type": "execute_result",
          "data": {
            "text/plain": [
              "array([ True, False])"
            ]
          },
          "metadata": {},
          "execution_count": 37
        }
      ],
      "source": [
        "inside = polygon.contains_points(points)\n",
        "inside"
      ]
    },
    {
      "cell_type": "markdown",
      "metadata": {
        "id": "1KC5n3WRuJLL"
      },
      "source": [
        "The result is an array of Boolean values.\n",
        "\n",
        "We are almost ready to select stars whose photometry data falls in this polygon.  But first we need to do some data cleaning."
      ]
    },
    {
      "cell_type": "markdown",
      "metadata": {
        "id": "DS7kY1xOuJLL"
      },
      "source": [
        "## Save the polygon\n",
        "\n",
        "[Reproducibile research](https://en.wikipedia.org/wiki/Reproducibility#Reproducible_research) is \"the idea that ... the full computational environment used to produce the results in the paper such as the code, data, etc. can be used to reproduce the results and create new work based on the research.\"\n",
        "\n",
        "This Jupyter notebook is an example of reproducible research because it contains all of the code needed to reproduce the results, including the database queries that download the data and and analysis.\n",
        "\n",
        "In this lesson we used an isochrone to derive a polygon, which we used to select stars based on photometry.\n",
        "So it is important to record the polygon as part of the data analysis pipeline.\n",
        "\n",
        "Here's how we can save it in an HDF file."
      ]
    },
    {
      "cell_type": "code",
      "execution_count": 38,
      "metadata": {
        "id": "Rl-b3rLvuJLL",
        "outputId": "2a664f1a-5b9e-47fb-a9ec-4074c6415305",
        "colab": {
          "base_uri": "https://localhost:8080/"
        }
      },
      "outputs": [
        {
          "output_type": "stream",
          "name": "stderr",
          "text": [
            "<ipython-input-38-d55d4037a2d6>:2: FutureWarning: Starting with pandas version 3.0 all arguments of to_hdf except for the argument 'path_or_buf' will be keyword-only.\n",
            "  loop_df.to_hdf(filename, 'loop_df')\n"
          ]
        }
      ],
      "source": [
        "filename = 'gd1_data.hdf'\n",
        "loop_df.to_hdf(filename, 'loop_df')"
      ]
    },
    {
      "cell_type": "markdown",
      "metadata": {
        "id": "wbatmXrfuJLL"
      },
      "source": [
        "## Selecting based on photometry\n",
        "\n",
        "Now let's see how many of the candidate stars are inside the polygon we chose.\n",
        "We'll put color and magnitude data from `candidate_df` into a new `DataFrame`:"
      ]
    },
    {
      "cell_type": "code",
      "execution_count": 39,
      "metadata": {
        "id": "J_beiQ4quJLL",
        "outputId": "ac9f8b31-7b08-4b5d-94bd-fcdb354a3eab",
        "colab": {
          "base_uri": "https://localhost:8080/",
          "height": 206
        }
      },
      "outputs": [
        {
          "output_type": "execute_result",
          "data": {
            "text/plain": [
              "    color      mag\n",
              "0  0.3804  17.8978\n",
              "1  1.6092  19.2873\n",
              "2  0.4457  16.9238\n",
              "3  1.5902  19.9242\n",
              "4  1.4853  16.1516"
            ],
            "text/html": [
              "\n",
              "  <div id=\"df-2805338a-0cf2-4053-a88f-f7943e82dba2\" class=\"colab-df-container\">\n",
              "    <div>\n",
              "<style scoped>\n",
              "    .dataframe tbody tr th:only-of-type {\n",
              "        vertical-align: middle;\n",
              "    }\n",
              "\n",
              "    .dataframe tbody tr th {\n",
              "        vertical-align: top;\n",
              "    }\n",
              "\n",
              "    .dataframe thead th {\n",
              "        text-align: right;\n",
              "    }\n",
              "</style>\n",
              "<table border=\"1\" class=\"dataframe\">\n",
              "  <thead>\n",
              "    <tr style=\"text-align: right;\">\n",
              "      <th></th>\n",
              "      <th>color</th>\n",
              "      <th>mag</th>\n",
              "    </tr>\n",
              "  </thead>\n",
              "  <tbody>\n",
              "    <tr>\n",
              "      <th>0</th>\n",
              "      <td>0.3804</td>\n",
              "      <td>17.8978</td>\n",
              "    </tr>\n",
              "    <tr>\n",
              "      <th>1</th>\n",
              "      <td>1.6092</td>\n",
              "      <td>19.2873</td>\n",
              "    </tr>\n",
              "    <tr>\n",
              "      <th>2</th>\n",
              "      <td>0.4457</td>\n",
              "      <td>16.9238</td>\n",
              "    </tr>\n",
              "    <tr>\n",
              "      <th>3</th>\n",
              "      <td>1.5902</td>\n",
              "      <td>19.9242</td>\n",
              "    </tr>\n",
              "    <tr>\n",
              "      <th>4</th>\n",
              "      <td>1.4853</td>\n",
              "      <td>16.1516</td>\n",
              "    </tr>\n",
              "  </tbody>\n",
              "</table>\n",
              "</div>\n",
              "    <div class=\"colab-df-buttons\">\n",
              "\n",
              "  <div class=\"colab-df-container\">\n",
              "    <button class=\"colab-df-convert\" onclick=\"convertToInteractive('df-2805338a-0cf2-4053-a88f-f7943e82dba2')\"\n",
              "            title=\"Convert this dataframe to an interactive table.\"\n",
              "            style=\"display:none;\">\n",
              "\n",
              "  <svg xmlns=\"http://www.w3.org/2000/svg\" height=\"24px\" viewBox=\"0 -960 960 960\">\n",
              "    <path d=\"M120-120v-720h720v720H120Zm60-500h600v-160H180v160Zm220 220h160v-160H400v160Zm0 220h160v-160H400v160ZM180-400h160v-160H180v160Zm440 0h160v-160H620v160ZM180-180h160v-160H180v160Zm440 0h160v-160H620v160Z\"/>\n",
              "  </svg>\n",
              "    </button>\n",
              "\n",
              "  <style>\n",
              "    .colab-df-container {\n",
              "      display:flex;\n",
              "      gap: 12px;\n",
              "    }\n",
              "\n",
              "    .colab-df-convert {\n",
              "      background-color: #E8F0FE;\n",
              "      border: none;\n",
              "      border-radius: 50%;\n",
              "      cursor: pointer;\n",
              "      display: none;\n",
              "      fill: #1967D2;\n",
              "      height: 32px;\n",
              "      padding: 0 0 0 0;\n",
              "      width: 32px;\n",
              "    }\n",
              "\n",
              "    .colab-df-convert:hover {\n",
              "      background-color: #E2EBFA;\n",
              "      box-shadow: 0px 1px 2px rgba(60, 64, 67, 0.3), 0px 1px 3px 1px rgba(60, 64, 67, 0.15);\n",
              "      fill: #174EA6;\n",
              "    }\n",
              "\n",
              "    .colab-df-buttons div {\n",
              "      margin-bottom: 4px;\n",
              "    }\n",
              "\n",
              "    [theme=dark] .colab-df-convert {\n",
              "      background-color: #3B4455;\n",
              "      fill: #D2E3FC;\n",
              "    }\n",
              "\n",
              "    [theme=dark] .colab-df-convert:hover {\n",
              "      background-color: #434B5C;\n",
              "      box-shadow: 0px 1px 3px 1px rgba(0, 0, 0, 0.15);\n",
              "      filter: drop-shadow(0px 1px 2px rgba(0, 0, 0, 0.3));\n",
              "      fill: #FFFFFF;\n",
              "    }\n",
              "  </style>\n",
              "\n",
              "    <script>\n",
              "      const buttonEl =\n",
              "        document.querySelector('#df-2805338a-0cf2-4053-a88f-f7943e82dba2 button.colab-df-convert');\n",
              "      buttonEl.style.display =\n",
              "        google.colab.kernel.accessAllowed ? 'block' : 'none';\n",
              "\n",
              "      async function convertToInteractive(key) {\n",
              "        const element = document.querySelector('#df-2805338a-0cf2-4053-a88f-f7943e82dba2');\n",
              "        const dataTable =\n",
              "          await google.colab.kernel.invokeFunction('convertToInteractive',\n",
              "                                                    [key], {});\n",
              "        if (!dataTable) return;\n",
              "\n",
              "        const docLinkHtml = 'Like what you see? Visit the ' +\n",
              "          '<a target=\"_blank\" href=https://colab.research.google.com/notebooks/data_table.ipynb>data table notebook</a>'\n",
              "          + ' to learn more about interactive tables.';\n",
              "        element.innerHTML = '';\n",
              "        dataTable['output_type'] = 'display_data';\n",
              "        await google.colab.output.renderOutput(dataTable, element);\n",
              "        const docLink = document.createElement('div');\n",
              "        docLink.innerHTML = docLinkHtml;\n",
              "        element.appendChild(docLink);\n",
              "      }\n",
              "    </script>\n",
              "  </div>\n",
              "\n",
              "\n",
              "<div id=\"df-24e34d9c-ebfc-4f31-a1a5-06e3bf6a8158\">\n",
              "  <button class=\"colab-df-quickchart\" onclick=\"quickchart('df-24e34d9c-ebfc-4f31-a1a5-06e3bf6a8158')\"\n",
              "            title=\"Suggest charts\"\n",
              "            style=\"display:none;\">\n",
              "\n",
              "<svg xmlns=\"http://www.w3.org/2000/svg\" height=\"24px\"viewBox=\"0 0 24 24\"\n",
              "     width=\"24px\">\n",
              "    <g>\n",
              "        <path d=\"M19 3H5c-1.1 0-2 .9-2 2v14c0 1.1.9 2 2 2h14c1.1 0 2-.9 2-2V5c0-1.1-.9-2-2-2zM9 17H7v-7h2v7zm4 0h-2V7h2v10zm4 0h-2v-4h2v4z\"/>\n",
              "    </g>\n",
              "</svg>\n",
              "  </button>\n",
              "\n",
              "<style>\n",
              "  .colab-df-quickchart {\n",
              "      --bg-color: #E8F0FE;\n",
              "      --fill-color: #1967D2;\n",
              "      --hover-bg-color: #E2EBFA;\n",
              "      --hover-fill-color: #174EA6;\n",
              "      --disabled-fill-color: #AAA;\n",
              "      --disabled-bg-color: #DDD;\n",
              "  }\n",
              "\n",
              "  [theme=dark] .colab-df-quickchart {\n",
              "      --bg-color: #3B4455;\n",
              "      --fill-color: #D2E3FC;\n",
              "      --hover-bg-color: #434B5C;\n",
              "      --hover-fill-color: #FFFFFF;\n",
              "      --disabled-bg-color: #3B4455;\n",
              "      --disabled-fill-color: #666;\n",
              "  }\n",
              "\n",
              "  .colab-df-quickchart {\n",
              "    background-color: var(--bg-color);\n",
              "    border: none;\n",
              "    border-radius: 50%;\n",
              "    cursor: pointer;\n",
              "    display: none;\n",
              "    fill: var(--fill-color);\n",
              "    height: 32px;\n",
              "    padding: 0;\n",
              "    width: 32px;\n",
              "  }\n",
              "\n",
              "  .colab-df-quickchart:hover {\n",
              "    background-color: var(--hover-bg-color);\n",
              "    box-shadow: 0 1px 2px rgba(60, 64, 67, 0.3), 0 1px 3px 1px rgba(60, 64, 67, 0.15);\n",
              "    fill: var(--button-hover-fill-color);\n",
              "  }\n",
              "\n",
              "  .colab-df-quickchart-complete:disabled,\n",
              "  .colab-df-quickchart-complete:disabled:hover {\n",
              "    background-color: var(--disabled-bg-color);\n",
              "    fill: var(--disabled-fill-color);\n",
              "    box-shadow: none;\n",
              "  }\n",
              "\n",
              "  .colab-df-spinner {\n",
              "    border: 2px solid var(--fill-color);\n",
              "    border-color: transparent;\n",
              "    border-bottom-color: var(--fill-color);\n",
              "    animation:\n",
              "      spin 1s steps(1) infinite;\n",
              "  }\n",
              "\n",
              "  @keyframes spin {\n",
              "    0% {\n",
              "      border-color: transparent;\n",
              "      border-bottom-color: var(--fill-color);\n",
              "      border-left-color: var(--fill-color);\n",
              "    }\n",
              "    20% {\n",
              "      border-color: transparent;\n",
              "      border-left-color: var(--fill-color);\n",
              "      border-top-color: var(--fill-color);\n",
              "    }\n",
              "    30% {\n",
              "      border-color: transparent;\n",
              "      border-left-color: var(--fill-color);\n",
              "      border-top-color: var(--fill-color);\n",
              "      border-right-color: var(--fill-color);\n",
              "    }\n",
              "    40% {\n",
              "      border-color: transparent;\n",
              "      border-right-color: var(--fill-color);\n",
              "      border-top-color: var(--fill-color);\n",
              "    }\n",
              "    60% {\n",
              "      border-color: transparent;\n",
              "      border-right-color: var(--fill-color);\n",
              "    }\n",
              "    80% {\n",
              "      border-color: transparent;\n",
              "      border-right-color: var(--fill-color);\n",
              "      border-bottom-color: var(--fill-color);\n",
              "    }\n",
              "    90% {\n",
              "      border-color: transparent;\n",
              "      border-bottom-color: var(--fill-color);\n",
              "    }\n",
              "  }\n",
              "</style>\n",
              "\n",
              "  <script>\n",
              "    async function quickchart(key) {\n",
              "      const quickchartButtonEl =\n",
              "        document.querySelector('#' + key + ' button');\n",
              "      quickchartButtonEl.disabled = true;  // To prevent multiple clicks.\n",
              "      quickchartButtonEl.classList.add('colab-df-spinner');\n",
              "      try {\n",
              "        const charts = await google.colab.kernel.invokeFunction(\n",
              "            'suggestCharts', [key], {});\n",
              "      } catch (error) {\n",
              "        console.error('Error during call to suggestCharts:', error);\n",
              "      }\n",
              "      quickchartButtonEl.classList.remove('colab-df-spinner');\n",
              "      quickchartButtonEl.classList.add('colab-df-quickchart-complete');\n",
              "    }\n",
              "    (() => {\n",
              "      let quickchartButtonEl =\n",
              "        document.querySelector('#df-24e34d9c-ebfc-4f31-a1a5-06e3bf6a8158 button');\n",
              "      quickchartButtonEl.style.display =\n",
              "        google.colab.kernel.accessAllowed ? 'block' : 'none';\n",
              "    })();\n",
              "  </script>\n",
              "</div>\n",
              "\n",
              "    </div>\n",
              "  </div>\n"
            ],
            "application/vnd.google.colaboratory.intrinsic+json": {
              "type": "dataframe",
              "variable_name": "points",
              "summary": "{\n  \"name\": \"points\",\n  \"rows\": 3725,\n  \"fields\": [\n    {\n      \"column\": \"color\",\n      \"properties\": {\n        \"dtype\": \"number\",\n        \"std\": 0.6084803702323808,\n        \"min\": -2.9966993331908984,\n        \"max\": 2.720600128173899,\n        \"num_unique_values\": 3554,\n        \"samples\": [\n          1.9363994598387997,\n          0.6870002746581996,\n          0.6927995681762003\n        ],\n        \"semantic_type\": \"\",\n        \"description\": \"\"\n      }\n    },\n    {\n      \"column\": \"mag\",\n      \"properties\": {\n        \"dtype\": \"number\",\n        \"std\": 1.879028519254254,\n        \"min\": 12.4593000411987,\n        \"max\": 22.6212997436523,\n        \"num_unique_values\": 3540,\n        \"samples\": [\n          19.1970996856689,\n          16.9309997558594,\n          21.9046001434326\n        ],\n        \"semantic_type\": \"\",\n        \"description\": \"\"\n      }\n    }\n  ]\n}"
            }
          },
          "metadata": {},
          "execution_count": 39
        }
      ],
      "source": [
        "points = pd.DataFrame()\n",
        "\n",
        "points['color'] = candidate_df['g_mean_psf_mag'] - candidate_df['i_mean_psf_mag']\n",
        "points['mag'] = candidate_df['g_mean_psf_mag']\n",
        "\n",
        "points.head()"
      ]
    },
    {
      "cell_type": "markdown",
      "metadata": {
        "id": "g5LnnHuhuJLL"
      },
      "source": [
        "Which we can pass to `contains_points`:"
      ]
    },
    {
      "cell_type": "code",
      "execution_count": 40,
      "metadata": {
        "id": "WO0Spx45uJLL",
        "outputId": "27c930fe-5291-428b-efc4-6039973f2c68",
        "colab": {
          "base_uri": "https://localhost:8080/"
        }
      },
      "outputs": [
        {
          "output_type": "execute_result",
          "data": {
            "text/plain": [
              "array([False, False, False, ..., False, False, False])"
            ]
          },
          "metadata": {},
          "execution_count": 40
        }
      ],
      "source": [
        "inside = polygon.contains_points(points)\n",
        "inside"
      ]
    },
    {
      "cell_type": "markdown",
      "metadata": {
        "id": "7HoRsM8RuJLL"
      },
      "source": [
        "The result is a Boolean array.  We can use `sum` to see how many stars fall in the polygon."
      ]
    },
    {
      "cell_type": "code",
      "execution_count": 41,
      "metadata": {
        "id": "q6bHOCNIuJLL",
        "outputId": "7cc322ce-09f2-4fa0-f33d-3c1e3cf45957",
        "colab": {
          "base_uri": "https://localhost:8080/"
        }
      },
      "outputs": [
        {
          "output_type": "execute_result",
          "data": {
            "text/plain": [
              "454"
            ]
          },
          "metadata": {},
          "execution_count": 41
        }
      ],
      "source": [
        "inside.sum()"
      ]
    },
    {
      "cell_type": "markdown",
      "metadata": {
        "id": "G9MOMI9BuJLL"
      },
      "source": [
        "Now we can use `inside` as a mask to select stars that fall inside the polygon."
      ]
    },
    {
      "cell_type": "code",
      "execution_count": 42,
      "metadata": {
        "id": "KkqmOCexuJLL"
      },
      "outputs": [],
      "source": [
        "winner_df = candidate_df[inside]"
      ]
    },
    {
      "cell_type": "markdown",
      "metadata": {
        "id": "Q6eDrl2AuJLM"
      },
      "source": [
        "Let's make a color-magnitude plot one more time, highlighting the selected stars with green markers."
      ]
    },
    {
      "cell_type": "code",
      "execution_count": 43,
      "metadata": {
        "id": "b07sk9GIuJLM",
        "outputId": "01d38ea5-a2dd-4f33-bfd4-e994a09451e7",
        "colab": {
          "base_uri": "https://localhost:8080/",
          "height": 459
        }
      },
      "outputs": [
        {
          "output_type": "display_data",
          "data": {
            "text/plain": [
              "<Figure size 640x480 with 1 Axes>"
            ],
            "image/png": "[encoded data removed]"
          },
          "metadata": {}
        }
      ],
      "source": [
        "plot_cmd(candidate_df)\n",
        "plt.plot(color_g_i, mag_g)\n",
        "plt.plot(color_loop, mag_loop)\n",
        "\n",
        "x = winner_df['g_mean_psf_mag'] - winner_df['i_mean_psf_mag']\n",
        "y = winner_df['g_mean_psf_mag']\n",
        "plt.plot(x, y, 'go', markersize=0.5, alpha=0.5);"
      ]
    },
    {
      "cell_type": "markdown",
      "metadata": {
        "id": "AGT5tgs3uJLM"
      },
      "source": [
        "It looks like the selected stars are, in fact, inside the polygon, which means they have photometry data consistent with GD-1.\n",
        "\n",
        "Finally, we can plot the coordinates of the selected stars:"
      ]
    },
    {
      "cell_type": "code",
      "execution_count": 44,
      "metadata": {
        "id": "QWp24B1NuJLM",
        "outputId": "57de3ff5-0158-4bb9-a9da-e5247c1087c9",
        "colab": {
          "base_uri": "https://localhost:8080/",
          "height": 272
        }
      },
      "outputs": [
        {
          "output_type": "display_data",
          "data": {
            "text/plain": [
              "<Figure size 1000x250 with 1 Axes>"
            ],
            "image/png": "[encoded data removed]"
          },
          "metadata": {}
        }
      ],
      "source": [
        "plt.figure(figsize=(10,2.5))\n",
        "\n",
        "x = winner_df['phi1']\n",
        "y = winner_df['phi2']\n",
        "plt.plot(x, y, 'ko', markersize=0.7, alpha=0.9)\n",
        "\n",
        "plt.xlabel('ra (degree GD1)')\n",
        "plt.ylabel('dec (degree GD1)')\n",
        "\n",
        "plt.axis('equal');"
      ]
    },
    {
      "cell_type": "markdown",
      "metadata": {
        "id": "W0siBEEVuJLM"
      },
      "source": [
        "This example includes two new Matplotlib commands:\n",
        "\n",
        "* `figure` creates the figure.  In previous examples, we didn't have to use this function; the figure was created automatically.  But when we call it explicitly, we can provide arguments like `figsize`, which sets the size of the figure.\n",
        "\n",
        "* `axis` with the parameter `equal` sets up the axes so a unit is the same size along the `x` and `y` axes.\n",
        "\n",
        "In an example like this, where `x` and `y` represent coordinates in space, equal axes ensures that the distance between points is represented accurately.   "
      ]
    },
    {
      "cell_type": "markdown",
      "metadata": {
        "id": "bYVuU5z3uJLM"
      },
      "source": [
        "## Write the data\n",
        "\n",
        "Finally, let's write the selected stars to a file."
      ]
    },
    {
      "cell_type": "code",
      "execution_count": 45,
      "metadata": {
        "id": "pt_gXpSHuJLM",
        "outputId": "67ec2e14-ae33-4c7c-df84-87605d8aa800",
        "colab": {
          "base_uri": "https://localhost:8080/"
        }
      },
      "outputs": [
        {
          "output_type": "stream",
          "name": "stderr",
          "text": [
            "<ipython-input-45-a1770e102b64>:2: FutureWarning: Starting with pandas version 3.0 all arguments of to_hdf except for the argument 'path_or_buf' will be keyword-only.\n",
            "  winner_df.to_hdf(filename, 'winner_df')\n"
          ]
        }
      ],
      "source": [
        "filename = 'gd1_data.hdf'\n",
        "winner_df.to_hdf(filename, 'winner_df')"
      ]
    },
    {
      "cell_type": "code",
      "execution_count": 46,
      "metadata": {
        "id": "ofcXT__IuJLM",
        "outputId": "533b353c-2454-48a5-b214-2ed25201cd5d",
        "colab": {
          "base_uri": "https://localhost:8080/"
        }
      },
      "outputs": [
        {
          "output_type": "execute_result",
          "data": {
            "text/plain": [
              "3.644359588623047"
            ]
          },
          "metadata": {},
          "execution_count": 46
        }
      ],
      "source": [
        "from os.path import getsize\n",
        "\n",
        "MB = 1024 * 1024\n",
        "getsize(filename) / MB"
      ]
    },
    {
      "cell_type": "markdown",
      "metadata": {
        "id": "uRzX1DWGuJLM"
      },
      "source": [
        "## Summary\n",
        "\n",
        "In this lesson, we used photometry data from Pan-STARRS to draw a color-magnitude diagram.\n",
        "We used an isochrone to define a polygon and select stars we think are likely to be in GD-1.  Plotting the results, we have a clearer picture of GD-1, similar to Figure 1 in the original paper."
      ]
    },
    {
      "cell_type": "markdown",
      "metadata": {
        "id": "rJGsmGfFuJLM"
      },
      "source": [
        "## Best practices\n",
        "\n",
        "* Matplotlib provides operations for working with points, polygons, and other geometric entities, so it's not just for making figures.\n",
        "\n",
        "* Use Matplotlib options to control the size and aspect ratio of figures to make them easier to interpret.  In this example, we scaled the axes so the size of a degree is equal along both axes.\n",
        "\n",
        "* Record every element of the data analysis pipeline that would be needed to replicate the results."
      ]
    },
    {
      "cell_type": "code",
      "execution_count": 46,
      "metadata": {
        "id": "AQRLsAcnuJLM"
      },
      "outputs": [],
      "source": []
    }
  ],
  "metadata": {
    "celltoolbar": "Tags",
    "kernelspec": {
      "display_name": "Python 3",
      "language": "python",
      "name": "python3"
    },
    "language_info": {
      "codemirror_mode": {
        "name": "ipython",
        "version": 3
      },
      "file_extension": ".py",
      "mimetype": "text/x-python",
      "name": "python",
      "nbconvert_exporter": "python",
      "pygments_lexer": "ipython3",
      "version": "3.8.8"
    },
    "colab": {
      "provenance": []
    }
  },
  "nbformat": 4,
  "nbformat_minor": 0
}